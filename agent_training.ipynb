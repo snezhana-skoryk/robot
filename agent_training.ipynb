{
 "cells": [
  {
   "metadata": {},
   "cell_type": "markdown",
   "source": "# Import",
   "id": "9f13c1b0976bc322"
  },
  {
   "metadata": {
    "ExecuteTime": {
     "end_time": "2025-06-17T16:34:25.125465Z",
     "start_time": "2025-06-17T16:34:23.449363Z"
    }
   },
   "cell_type": "code",
   "source": [
    "from PIL import Image\n",
    "\n",
    "import gymnasium as gym\n",
    "from gymnasium.wrappers import TimeLimit\n",
    "import panda_gym\n",
    "\n",
    "from stable_baselines3 import PPO\n",
    "from stable_baselines3.common.monitor import Monitor\n",
    "from stable_baselines3.common.vec_env import DummyVecEnv, VecFrameStack, VecTransposeImage\n",
    "\n",
    "from hcr5_reach_with_gripper_env import HCR5ReachWithGripperEnv"
   ],
   "id": "d37a59b899580d59",
   "outputs": [
    {
     "name": "stderr",
     "output_type": "stream",
     "text": [
      "pybullet build time: Sep  3 2024 12:59:12\n"
     ]
    }
   ],
   "execution_count": 1
  },
  {
   "metadata": {},
   "cell_type": "markdown",
   "source": "# Constants",
   "id": "66e3362e55d7fdb4"
  },
  {
   "metadata": {
    "ExecuteTime": {
     "end_time": "2025-06-17T16:34:28.870123Z",
     "start_time": "2025-06-17T16:34:28.866278Z"
    }
   },
   "cell_type": "code",
   "source": [
    "env_render_options = {\n",
    "    \"render_width\": 480,\n",
    "    \"render_height\": 480,\n",
    "    \"render_target_position\": [-0.2, 0, 0],\n",
    "    \"render_distance\": 1.2,\n",
    "    \"render_yaw\": 90,\n",
    "    \"render_pitch\": -30,\n",
    "    \"render_roll\": 0,\n",
    "}"
   ],
   "id": "81b5186677dc15cf",
   "outputs": [],
   "execution_count": 2
  },
  {
   "metadata": {},
   "cell_type": "markdown",
   "source": "# Envorinment setup",
   "id": "6508b6f35e689920"
  },
  {
   "metadata": {
    "ExecuteTime": {
     "end_time": "2025-06-17T16:34:32.528444Z",
     "start_time": "2025-06-17T16:34:32.525417Z"
    }
   },
   "cell_type": "code",
   "source": [
    "class ObsDictToArray(gym.ObservationWrapper):\n",
    "    \"\"\"Convert a dict obs {'observation': array, ...} into just the array.\"\"\"\n",
    "    def __init__(self, env):\n",
    "        super().__init__(env)\n",
    "        # Replace the observation_space with the sub-space you want:\n",
    "        self.observation_space = self.env.observation_space.spaces[\"observation\"]\n",
    "\n",
    "    def observation(self, obs_dict):\n",
    "        # obs_dict is {'observation': ..., 'achieved_goal': ..., ...}\n",
    "        return obs_dict[\"observation\"]"
   ],
   "id": "4edf359673321941",
   "outputs": [],
   "execution_count": 3
  },
  {
   "metadata": {
    "ExecuteTime": {
     "end_time": "2025-06-17T16:34:32.850500Z",
     "start_time": "2025-06-17T16:34:32.847814Z"
    }
   },
   "cell_type": "code",
   "source": [
    "def make_env():\n",
    "    # 1) Base goal-based env, which uses the full dict for reward internally\n",
    "    raw = TimeLimit(HCR5ReachWithGripperEnv(\n",
    "        render_mode=\"rgb_array\",\n",
    "        **env_render_options,\n",
    "        control_type='joints',\n",
    "        reward_type=\"combined\",\n",
    "    ),\n",
    "    max_episode_steps=100)\n",
    "    wrapped = ObsDictToArray(raw)\n",
    "    # 2) Wrap it in a Monitor so info[\"episode\"] = {\"r\": total_reward, \"l\": length}\n",
    "    return Monitor(wrapped)\n"
   ],
   "id": "90ec0174e6c38f1",
   "outputs": [],
   "execution_count": 4
  },
  {
   "metadata": {},
   "cell_type": "code",
   "source": [
    "def make_vec_env(n_envs=1):\n",
    "    vec_env = DummyVecEnv([make_env for i in range(n_envs)])\n",
    "    vec_env = VecFrameStack(vec_env, n_stack=4)\n",
    "    vec_env = VecTransposeImage(vec_env)\n",
    "    return vec_env\n",
    "\n",
    "vec_env = make_vec_env(8)\n",
    "vec_env.observation_space"
   ],
   "id": "73fe95998e096b09",
   "outputs": [],
   "execution_count": null
  },
  {
   "metadata": {
    "ExecuteTime": {
     "end_time": "2025-06-17T16:34:34.880893Z",
     "start_time": "2025-06-17T16:34:34.590475Z"
    }
   },
   "cell_type": "code",
   "source": "vec_env.render().shape, vec_env.envs[0].render().shape",
   "id": "5e2191fc16e94e4c",
   "outputs": [
    {
     "data": {
      "text/plain": [
       "((1440, 1440, 3), (480, 480, 3))"
      ]
     },
     "execution_count": 6,
     "metadata": {},
     "output_type": "execute_result"
    }
   ],
   "execution_count": 6
  },
  {
   "metadata": {
    "ExecuteTime": {
     "end_time": "2025-06-17T16:34:34.997822Z",
     "start_time": "2025-06-17T16:34:34.945729Z"
    }
   },
   "cell_type": "code",
   "source": [
    "observation, info = vec_env.envs[0].reset()\n",
    "observation, info = vec_env.envs[0].reset()\n",
    "observation, info = vec_env.envs[0].reset()\n",
    "observation, info = vec_env.envs[0].reset()\n",
    "observation, info = vec_env.envs[0].reset()\n",
    "observation.shape"
   ],
   "id": "50551b2c4c87a051",
   "outputs": [
    {
     "data": {
      "text/plain": [
       "(96, 96, 3)"
      ]
     },
     "execution_count": 7,
     "metadata": {},
     "output_type": "execute_result"
    }
   ],
   "execution_count": 7
  },
  {
   "metadata": {
    "ExecuteTime": {
     "end_time": "2025-06-17T16:34:35.151584Z",
     "start_time": "2025-06-17T16:34:35.141208Z"
    }
   },
   "cell_type": "code",
   "source": "Image.fromarray(observation)",
   "id": "dfd5a586f580ed99",
   "outputs": [
    {
     "data": {
      "text/plain": [
       "<PIL.Image.Image image mode=RGB size=96x96>"
      ],
      "image/png": "[encoded data removed]",
      "image/jpeg": "[encoded data removed]"
     },
     "execution_count": 8,
     "metadata": {},
     "output_type": "execute_result"
    }
   ],
   "execution_count": 8
  },
  {
   "metadata": {
    "ExecuteTime": {
     "end_time": "2025-06-17T16:34:35.720961Z",
     "start_time": "2025-06-17T16:34:35.638775Z"
    }
   },
   "cell_type": "code",
   "source": [
    "observation = vec_env.reset()\n",
    "observation.shape"
   ],
   "id": "16ba3c9b44d26a7c",
   "outputs": [
    {
     "data": {
      "text/plain": [
       "(8, 12, 96, 96)"
      ]
     },
     "execution_count": 9,
     "metadata": {},
     "output_type": "execute_result"
    }
   ],
   "execution_count": 9
  },
  {
   "metadata": {
    "ExecuteTime": {
     "end_time": "2025-06-17T16:34:36.119901Z",
     "start_time": "2025-06-17T16:34:36.117262Z"
    }
   },
   "cell_type": "code",
   "source": "Image.fromarray(observation[0][9:].transpose(1, 2, 0))",
   "id": "76820b3e1e8f0888",
   "outputs": [
    {
     "data": {
      "text/plain": [
       "<PIL.Image.Image image mode=RGB size=96x96>"
      ],
      "image/png": "[encoded data removed]",
      "image/jpeg": "[encoded data removed]"
     },
     "execution_count": 10,
     "metadata": {},
     "output_type": "execute_result"
    }
   ],
   "execution_count": 10
  },
  {
   "metadata": {
    "ExecuteTime": {
     "end_time": "2025-06-17T16:34:36.831767Z",
     "start_time": "2025-06-17T16:34:36.829161Z"
    }
   },
   "cell_type": "code",
   "source": "Image.fromarray(observation[0][:3].transpose(1, 2, 0))",
   "id": "aa81f2346a2e63b8",
   "outputs": [
    {
     "data": {
      "text/plain": [
       "<PIL.Image.Image image mode=RGB size=96x96>"
      ],
      "image/png": "[encoded data removed]",
      "image/jpeg": "[encoded data removed]"
     },
     "execution_count": 11,
     "metadata": {},
     "output_type": "execute_result"
    }
   ],
   "execution_count": 11
  },
  {
   "metadata": {},
   "cell_type": "markdown",
   "source": "# Old Agent",
   "id": "e147c6511a03d8a6"
  },
  {
   "metadata": {},
   "cell_type": "code",
   "source": [
    "vec_env = make_vec_env(32)\n",
    "vec_env"
   ],
   "id": "9c77c2d693ea0b43",
   "outputs": [],
   "execution_count": null
  },
  {
   "metadata": {
    "ExecuteTime": {
     "end_time": "2025-06-17T02:36:03.702793Z",
     "start_time": "2025-06-17T02:36:03.028021Z"
    }
   },
   "cell_type": "code",
   "source": [
    "model = PPO(\n",
    "    \"CnnPolicy\",\n",
    "    vec_env,\n",
    "    verbose=1,\n",
    "    device=\"mps\",\n",
    "    learning_rate=5e-5,\n",
    "    normalize_advantage=True,\n",
    "    vf_coef=0.1,\n",
    ")\n",
    "model.policy"
   ],
   "id": "242240e59a1dc293",
   "outputs": [
    {
     "name": "stdout",
     "output_type": "stream",
     "text": [
      "Using mps device\n"
     ]
    },
    {
     "data": {
      "text/plain": [
       "ActorCriticCnnPolicy(\n",
       "  (features_extractor): NatureCNN(\n",
       "    (cnn): Sequential(\n",
       "      (0): Conv2d(12, 32, kernel_size=(8, 8), stride=(4, 4))\n",
       "      (1): ReLU()\n",
       "      (2): Conv2d(32, 64, kernel_size=(4, 4), stride=(2, 2))\n",
       "      (3): ReLU()\n",
       "      (4): Conv2d(64, 64, kernel_size=(3, 3), stride=(1, 1))\n",
       "      (5): ReLU()\n",
       "      (6): Flatten(start_dim=1, end_dim=-1)\n",
       "    )\n",
       "    (linear): Sequential(\n",
       "      (0): Linear(in_features=4096, out_features=512, bias=True)\n",
       "      (1): ReLU()\n",
       "    )\n",
       "  )\n",
       "  (pi_features_extractor): NatureCNN(\n",
       "    (cnn): Sequential(\n",
       "      (0): Conv2d(12, 32, kernel_size=(8, 8), stride=(4, 4))\n",
       "      (1): ReLU()\n",
       "      (2): Conv2d(32, 64, kernel_size=(4, 4), stride=(2, 2))\n",
       "      (3): ReLU()\n",
       "      (4): Conv2d(64, 64, kernel_size=(3, 3), stride=(1, 1))\n",
       "      (5): ReLU()\n",
       "      (6): Flatten(start_dim=1, end_dim=-1)\n",
       "    )\n",
       "    (linear): Sequential(\n",
       "      (0): Linear(in_features=4096, out_features=512, bias=True)\n",
       "      (1): ReLU()\n",
       "    )\n",
       "  )\n",
       "  (vf_features_extractor): NatureCNN(\n",
       "    (cnn): Sequential(\n",
       "      (0): Conv2d(12, 32, kernel_size=(8, 8), stride=(4, 4))\n",
       "      (1): ReLU()\n",
       "      (2): Conv2d(32, 64, kernel_size=(4, 4), stride=(2, 2))\n",
       "      (3): ReLU()\n",
       "      (4): Conv2d(64, 64, kernel_size=(3, 3), stride=(1, 1))\n",
       "      (5): ReLU()\n",
       "      (6): Flatten(start_dim=1, end_dim=-1)\n",
       "    )\n",
       "    (linear): Sequential(\n",
       "      (0): Linear(in_features=4096, out_features=512, bias=True)\n",
       "      (1): ReLU()\n",
       "    )\n",
       "  )\n",
       "  (mlp_extractor): MlpExtractor(\n",
       "    (policy_net): Sequential()\n",
       "    (value_net): Sequential()\n",
       "  )\n",
       "  (action_net): Linear(in_features=512, out_features=7, bias=True)\n",
       "  (value_net): Linear(in_features=512, out_features=1, bias=True)\n",
       ")"
      ]
     },
     "execution_count": 13,
     "metadata": {},
     "output_type": "execute_result"
    }
   ],
   "execution_count": 13
  },
  {
   "metadata": {
    "ExecuteTime": {
     "end_time": "2025-06-17T02:36:07.483391Z",
     "start_time": "2025-06-17T02:36:07.479515Z"
    }
   },
   "cell_type": "code",
   "source": [
    "total_all = sum(p.numel() for p in model.policy.parameters())\n",
    "trainable_all = sum(p.numel() for p in model.policy.parameters() if p.requires_grad)\n",
    "print(f\"All params: {total_all:,}, Trainable: {trainable_all:,}\")"
   ],
   "id": "5533bc384fff899e",
   "outputs": [
    {
     "name": "stdout",
     "output_type": "stream",
     "text": [
      "All params: 2,196,143, Trainable: 2,196,143\n"
     ]
    }
   ],
   "execution_count": 14
  },
  {
   "metadata": {
    "ExecuteTime": {
     "end_time": "2025-06-17T06:48:14.491433Z",
     "start_time": "2025-06-17T02:36:17.679647Z"
    }
   },
   "cell_type": "code",
   "source": "model.learn(1_000_000)",
   "id": "f0d7028d2b5c9f7a",
   "outputs": [
    {
     "name": "stdout",
     "output_type": "stream",
     "text": [
      "---------------------------------\n",
      "| rollout/           |          |\n",
      "|    ep_len_mean     | 96.9     |\n",
      "|    ep_rew_mean     | -17.5    |\n",
      "|    success_rate    | 0.09     |\n",
      "| time/              |          |\n",
      "|    fps             | 92       |\n",
      "|    iterations      | 1        |\n",
      "|    time_elapsed    | 710      |\n",
      "|    total_timesteps | 65536    |\n",
      "---------------------------------\n",
      "-----------------------------------------\n",
      "| rollout/                |             |\n",
      "|    ep_len_mean          | 97.8        |\n",
      "|    ep_rew_mean          | -18.1       |\n",
      "|    success_rate         | 0.07        |\n",
      "| time/                   |             |\n",
      "|    fps                  | 79          |\n",
      "|    iterations           | 2           |\n",
      "|    time_elapsed         | 1653        |\n",
      "|    total_timesteps      | 131072      |\n",
      "| train/                  |             |\n",
      "|    approx_kl            | 0.011291115 |\n",
      "|    clip_fraction        | 0.136       |\n",
      "|    clip_range           | 0.2         |\n",
      "|    entropy_loss         | -9.92       |\n",
      "|    explained_variance   | -0.00208    |\n",
      "|    learning_rate        | 5e-05       |\n",
      "|    loss                 | 0.643       |\n",
      "|    n_updates            | 10          |\n",
      "|    policy_gradient_loss | -0.00368    |\n",
      "|    std                  | 0.998       |\n",
      "|    value_loss           | 52          |\n",
      "-----------------------------------------\n",
      "---------------------------------------\n",
      "| rollout/                |           |\n",
      "|    ep_len_mean          | 90.7      |\n",
      "|    ep_rew_mean          | -0.645    |\n",
      "|    success_rate         | 0.21      |\n",
      "| time/                   |           |\n",
      "|    fps                  | 75        |\n",
      "|    iterations           | 3         |\n",
      "|    time_elapsed         | 2593      |\n",
      "|    total_timesteps      | 196608    |\n",
      "| train/                  |           |\n",
      "|    approx_kl            | 0.0171176 |\n",
      "|    clip_fraction        | 0.218     |\n",
      "|    clip_range           | 0.2       |\n",
      "|    entropy_loss         | -9.9      |\n",
      "|    explained_variance   | 0.18      |\n",
      "|    learning_rate        | 5e-05     |\n",
      "|    loss                 | 9.62      |\n",
      "|    n_updates            | 20        |\n",
      "|    policy_gradient_loss | -0.00485  |\n",
      "|    std                  | 0.995     |\n",
      "|    value_loss           | 70.2      |\n",
      "---------------------------------------\n",
      "-----------------------------------------\n",
      "| rollout/                |             |\n",
      "|    ep_len_mean          | 90.2        |\n",
      "|    ep_rew_mean          | 7.61        |\n",
      "|    success_rate         | 0.26        |\n",
      "| time/                   |             |\n",
      "|    fps                  | 74          |\n",
      "|    iterations           | 4           |\n",
      "|    time_elapsed         | 3534        |\n",
      "|    total_timesteps      | 262144      |\n",
      "| train/                  |             |\n",
      "|    approx_kl            | 0.020098597 |\n",
      "|    clip_fraction        | 0.254       |\n",
      "|    clip_range           | 0.2         |\n",
      "|    entropy_loss         | -9.88       |\n",
      "|    explained_variance   | 0.34        |\n",
      "|    learning_rate        | 5e-05       |\n",
      "|    loss                 | 12.1        |\n",
      "|    n_updates            | 30          |\n",
      "|    policy_gradient_loss | -0.00533    |\n",
      "|    std                  | 0.993       |\n",
      "|    value_loss           | 106         |\n",
      "-----------------------------------------\n",
      "-----------------------------------------\n",
      "| rollout/                |             |\n",
      "|    ep_len_mean          | 81.6        |\n",
      "|    ep_rew_mean          | 21.3        |\n",
      "|    success_rate         | 0.38        |\n",
      "| time/                   |             |\n",
      "|    fps                  | 73          |\n",
      "|    iterations           | 5           |\n",
      "|    time_elapsed         | 4473        |\n",
      "|    total_timesteps      | 327680      |\n",
      "| train/                  |             |\n",
      "|    approx_kl            | 0.020918816 |\n",
      "|    clip_fraction        | 0.256       |\n",
      "|    clip_range           | 0.2         |\n",
      "|    entropy_loss         | -9.87       |\n",
      "|    explained_variance   | 0.385       |\n",
      "|    learning_rate        | 5e-05       |\n",
      "|    loss                 | 4.1         |\n",
      "|    n_updates            | 40          |\n",
      "|    policy_gradient_loss | -0.00371    |\n",
      "|    std                  | 0.99        |\n",
      "|    value_loss           | 141         |\n",
      "-----------------------------------------\n",
      "-----------------------------------------\n",
      "| rollout/                |             |\n",
      "|    ep_len_mean          | 73          |\n",
      "|    ep_rew_mean          | 33.7        |\n",
      "|    success_rate         | 0.48        |\n",
      "| time/                   |             |\n",
      "|    fps                  | 72          |\n",
      "|    iterations           | 6           |\n",
      "|    time_elapsed         | 5414        |\n",
      "|    total_timesteps      | 393216      |\n",
      "| train/                  |             |\n",
      "|    approx_kl            | 0.026249615 |\n",
      "|    clip_fraction        | 0.287       |\n",
      "|    clip_range           | 0.2         |\n",
      "|    entropy_loss         | -9.85       |\n",
      "|    explained_variance   | 0.351       |\n",
      "|    learning_rate        | 5e-05       |\n",
      "|    loss                 | 9.56        |\n",
      "|    n_updates            | 50          |\n",
      "|    policy_gradient_loss | -0.00261    |\n",
      "|    std                  | 0.987       |\n",
      "|    value_loss           | 178         |\n",
      "-----------------------------------------\n",
      "----------------------------------------\n",
      "| rollout/                |            |\n",
      "|    ep_len_mean          | 76.7       |\n",
      "|    ep_rew_mean          | 33         |\n",
      "|    success_rate         | 0.47       |\n",
      "| time/                   |            |\n",
      "|    fps                  | 72         |\n",
      "|    iterations           | 7          |\n",
      "|    time_elapsed         | 6357       |\n",
      "|    total_timesteps      | 458752     |\n",
      "| train/                  |            |\n",
      "|    approx_kl            | 0.03338728 |\n",
      "|    clip_fraction        | 0.332      |\n",
      "|    clip_range           | 0.2        |\n",
      "|    entropy_loss         | -9.84      |\n",
      "|    explained_variance   | 0.329      |\n",
      "|    learning_rate        | 5e-05      |\n",
      "|    loss                 | 11.5       |\n",
      "|    n_updates            | 60         |\n",
      "|    policy_gradient_loss | 0.00237    |\n",
      "|    std                  | 0.987      |\n",
      "|    value_loss           | 209        |\n",
      "----------------------------------------\n",
      "-----------------------------------------\n",
      "| rollout/                |             |\n",
      "|    ep_len_mean          | 70.3        |\n",
      "|    ep_rew_mean          | 41.4        |\n",
      "|    success_rate         | 0.53        |\n",
      "| time/                   |             |\n",
      "|    fps                  | 71          |\n",
      "|    iterations           | 8           |\n",
      "|    time_elapsed         | 7301        |\n",
      "|    total_timesteps      | 524288      |\n",
      "| train/                  |             |\n",
      "|    approx_kl            | 0.040524893 |\n",
      "|    clip_fraction        | 0.372       |\n",
      "|    clip_range           | 0.2         |\n",
      "|    entropy_loss         | -9.83       |\n",
      "|    explained_variance   | 0.461       |\n",
      "|    learning_rate        | 5e-05       |\n",
      "|    loss                 | 9.67        |\n",
      "|    n_updates            | 70          |\n",
      "|    policy_gradient_loss | 0.00456     |\n",
      "|    std                  | 0.985       |\n",
      "|    value_loss           | 222         |\n",
      "-----------------------------------------\n",
      "-----------------------------------------\n",
      "| rollout/                |             |\n",
      "|    ep_len_mean          | 67          |\n",
      "|    ep_rew_mean          | 48.9        |\n",
      "|    success_rate         | 0.6         |\n",
      "| time/                   |             |\n",
      "|    fps                  | 71          |\n",
      "|    iterations           | 9           |\n",
      "|    time_elapsed         | 8244        |\n",
      "|    total_timesteps      | 589824      |\n",
      "| train/                  |             |\n",
      "|    approx_kl            | 0.049677666 |\n",
      "|    clip_fraction        | 0.417       |\n",
      "|    clip_range           | 0.2         |\n",
      "|    entropy_loss         | -9.83       |\n",
      "|    explained_variance   | 0.456       |\n",
      "|    learning_rate        | 5e-05       |\n",
      "|    loss                 | 10.6        |\n",
      "|    n_updates            | 80          |\n",
      "|    policy_gradient_loss | 0.012       |\n",
      "|    std                  | 0.986       |\n",
      "|    value_loss           | 225         |\n",
      "-----------------------------------------\n",
      "-----------------------------------------\n",
      "| rollout/                |             |\n",
      "|    ep_len_mean          | 62.7        |\n",
      "|    ep_rew_mean          | 51.8        |\n",
      "|    success_rate         | 0.62        |\n",
      "| time/                   |             |\n",
      "|    fps                  | 71          |\n",
      "|    iterations           | 10          |\n",
      "|    time_elapsed         | 9194        |\n",
      "|    total_timesteps      | 655360      |\n",
      "| train/                  |             |\n",
      "|    approx_kl            | 0.058590613 |\n",
      "|    clip_fraction        | 0.44        |\n",
      "|    clip_range           | 0.2         |\n",
      "|    entropy_loss         | -9.82       |\n",
      "|    explained_variance   | 0.469       |\n",
      "|    learning_rate        | 5e-05       |\n",
      "|    loss                 | 20.7        |\n",
      "|    n_updates            | 90          |\n",
      "|    policy_gradient_loss | 0.0137      |\n",
      "|    std                  | 0.985       |\n",
      "|    value_loss           | 224         |\n",
      "-----------------------------------------\n",
      "----------------------------------------\n",
      "| rollout/                |            |\n",
      "|    ep_len_mean          | 63.3       |\n",
      "|    ep_rew_mean          | 50.9       |\n",
      "|    success_rate         | 0.61       |\n",
      "| time/                   |            |\n",
      "|    fps                  | 71         |\n",
      "|    iterations           | 11         |\n",
      "|    time_elapsed         | 10143      |\n",
      "|    total_timesteps      | 720896     |\n",
      "| train/                  |            |\n",
      "|    approx_kl            | 0.06442781 |\n",
      "|    clip_fraction        | 0.467      |\n",
      "|    clip_range           | 0.2        |\n",
      "|    entropy_loss         | -9.82      |\n",
      "|    explained_variance   | 0.521      |\n",
      "|    learning_rate        | 5e-05      |\n",
      "|    loss                 | 12.6       |\n",
      "|    n_updates            | 100        |\n",
      "|    policy_gradient_loss | 0.0197     |\n",
      "|    std                  | 0.984      |\n",
      "|    value_loss           | 208        |\n",
      "----------------------------------------\n",
      "----------------------------------------\n",
      "| rollout/                |            |\n",
      "|    ep_len_mean          | 69.9       |\n",
      "|    ep_rew_mean          | 40.5       |\n",
      "|    success_rate         | 0.53       |\n",
      "| time/                   |            |\n",
      "|    fps                  | 70         |\n",
      "|    iterations           | 12         |\n",
      "|    time_elapsed         | 11091      |\n",
      "|    total_timesteps      | 786432     |\n",
      "| train/                  |            |\n",
      "|    approx_kl            | 0.07492506 |\n",
      "|    clip_fraction        | 0.485      |\n",
      "|    clip_range           | 0.2        |\n",
      "|    entropy_loss         | -9.82      |\n",
      "|    explained_variance   | 0.564      |\n",
      "|    learning_rate        | 5e-05      |\n",
      "|    loss                 | 6.77       |\n",
      "|    n_updates            | 110        |\n",
      "|    policy_gradient_loss | 0.0232     |\n",
      "|    std                  | 0.984      |\n",
      "|    value_loss           | 182        |\n",
      "----------------------------------------\n",
      "-----------------------------------------\n",
      "| rollout/                |             |\n",
      "|    ep_len_mean          | 46.4        |\n",
      "|    ep_rew_mean          | 73.1        |\n",
      "|    success_rate         | 0.81        |\n",
      "| time/                   |             |\n",
      "|    fps                  | 70          |\n",
      "|    iterations           | 13          |\n",
      "|    time_elapsed         | 12039       |\n",
      "|    total_timesteps      | 851968      |\n",
      "| train/                  |             |\n",
      "|    approx_kl            | 0.084632516 |\n",
      "|    clip_fraction        | 0.509       |\n",
      "|    clip_range           | 0.2         |\n",
      "|    entropy_loss         | -9.83       |\n",
      "|    explained_variance   | 0.564       |\n",
      "|    learning_rate        | 5e-05       |\n",
      "|    loss                 | 9.82        |\n",
      "|    n_updates            | 120         |\n",
      "|    policy_gradient_loss | 0.0246      |\n",
      "|    std                  | 0.986       |\n",
      "|    value_loss           | 168         |\n",
      "-----------------------------------------\n",
      "-----------------------------------------\n",
      "| rollout/                |             |\n",
      "|    ep_len_mean          | 57.8        |\n",
      "|    ep_rew_mean          | 54.1        |\n",
      "|    success_rate         | 0.64        |\n",
      "| time/                   |             |\n",
      "|    fps                  | 70          |\n",
      "|    iterations           | 14          |\n",
      "|    time_elapsed         | 12987       |\n",
      "|    total_timesteps      | 917504      |\n",
      "| train/                  |             |\n",
      "|    approx_kl            | 0.092381984 |\n",
      "|    clip_fraction        | 0.518       |\n",
      "|    clip_range           | 0.2         |\n",
      "|    entropy_loss         | -9.84       |\n",
      "|    explained_variance   | 0.554       |\n",
      "|    learning_rate        | 5e-05       |\n",
      "|    loss                 | 7.62        |\n",
      "|    n_updates            | 130         |\n",
      "|    policy_gradient_loss | 0.0279      |\n",
      "|    std                  | 0.989       |\n",
      "|    value_loss           | 175         |\n",
      "-----------------------------------------\n",
      "----------------------------------------\n",
      "| rollout/                |            |\n",
      "|    ep_len_mean          | 53.3       |\n",
      "|    ep_rew_mean          | 64.2       |\n",
      "|    success_rate         | 0.73       |\n",
      "| time/                   |            |\n",
      "|    fps                  | 70         |\n",
      "|    iterations           | 15         |\n",
      "|    time_elapsed         | 13937      |\n",
      "|    total_timesteps      | 983040     |\n",
      "| train/                  |            |\n",
      "|    approx_kl            | 0.09820835 |\n",
      "|    clip_fraction        | 0.535      |\n",
      "|    clip_range           | 0.2        |\n",
      "|    entropy_loss         | -9.87      |\n",
      "|    explained_variance   | 0.637      |\n",
      "|    learning_rate        | 5e-05      |\n",
      "|    loss                 | 12.2       |\n",
      "|    n_updates            | 140        |\n",
      "|    policy_gradient_loss | 0.0323     |\n",
      "|    std                  | 0.993      |\n",
      "|    value_loss           | 130        |\n",
      "----------------------------------------\n",
      "----------------------------------------\n",
      "| rollout/                |            |\n",
      "|    ep_len_mean          | 56.2       |\n",
      "|    ep_rew_mean          | 59         |\n",
      "|    success_rate         | 0.68       |\n",
      "| time/                   |            |\n",
      "|    fps                  | 70         |\n",
      "|    iterations           | 16         |\n",
      "|    time_elapsed         | 14886      |\n",
      "|    total_timesteps      | 1048576    |\n",
      "| train/                  |            |\n",
      "|    approx_kl            | 0.10540308 |\n",
      "|    clip_fraction        | 0.546      |\n",
      "|    clip_range           | 0.2        |\n",
      "|    entropy_loss         | -9.89      |\n",
      "|    explained_variance   | 0.592      |\n",
      "|    learning_rate        | 5e-05      |\n",
      "|    loss                 | 6.61       |\n",
      "|    n_updates            | 150        |\n",
      "|    policy_gradient_loss | 0.0335     |\n",
      "|    std                  | 0.995      |\n",
      "|    value_loss           | 137        |\n",
      "----------------------------------------\n"
     ]
    },
    {
     "data": {
      "text/plain": [
       "<stable_baselines3.ppo.ppo.PPO at 0x164832550>"
      ]
     },
     "execution_count": 15,
     "metadata": {},
     "output_type": "execute_result"
    }
   ],
   "execution_count": 15
  },
  {
   "metadata": {
    "ExecuteTime": {
     "end_time": "2025-06-17T06:48:15.561501Z",
     "start_time": "2025-06-17T06:48:15.479291Z"
    }
   },
   "cell_type": "code",
   "source": "model.save(\"agent_old.zip\")",
   "id": "6a3e075c3382bc9b",
   "outputs": [],
   "execution_count": 16
  },
  {
   "metadata": {
    "ExecuteTime": {
     "end_time": "2025-06-17T09:17:53.572901Z",
     "start_time": "2025-06-17T09:17:53.431410Z"
    }
   },
   "cell_type": "code",
   "source": [
    "model = PPO.load(\n",
    "    \"agent_old.zip\",\n",
    "    vec_env,\n",
    "    verbose=1,\n",
    "    device=\"mps\",\n",
    "    learning_rate=5e-5,\n",
    "    normalize_advantage=True,\n",
    "    vf_coef=0.5,\n",
    ")"
   ],
   "id": "a9c9ae560cb81d49",
   "outputs": [],
   "execution_count": 18
  },
  {
   "metadata": {},
   "cell_type": "code",
   "source": "model.learn(1_000_000)",
   "id": "838a511541748a57",
   "outputs": [],
   "execution_count": null
  },
  {
   "metadata": {
    "ExecuteTime": {
     "end_time": "2025-06-17T10:21:09.412820Z",
     "start_time": "2025-06-16T17:34:25.828834Z"
    }
   },
   "cell_type": "code",
   "source": "model.save(\"agent_old.zip\")",
   "id": "3a6b80bde7a4c387",
   "outputs": [],
   "execution_count": 40
  },
  {
   "metadata": {},
   "cell_type": "markdown",
   "source": "# Fine-tuning",
   "id": "2806fe7a8f9649e8"
  },
  {
   "metadata": {},
   "cell_type": "code",
   "source": [
    "vec_env = make_vec_env(16)\n",
    "vec_env"
   ],
   "id": "7f0638c5245cafb8",
   "outputs": [],
   "execution_count": null
  },
  {
   "metadata": {
    "ExecuteTime": {
     "end_time": "2025-06-18T09:10:41.906827Z",
     "start_time": "2025-06-18T09:10:41.630958Z"
    }
   },
   "cell_type": "code",
   "source": [
    "model = PPO.load(\n",
    "    \"agent_old.zip\",\n",
    "    vec_env,\n",
    "    verbose=1,\n",
    "    device=\"mps\",\n",
    "    learning_rate=5e-6,\n",
    "    normalize_advantage=True,\n",
    "    ent_coef=0,\n",
    "    target_kl=0.06,\n",
    "    vf_coef=0.1,\n",
    ")"
   ],
   "id": "127b3e849d7a9274",
   "outputs": [],
   "execution_count": 151
  },
  {
   "metadata": {
    "ExecuteTime": {
     "end_time": "2025-06-18T10:52:14.039243Z",
     "start_time": "2025-06-18T09:10:47.907331Z"
    }
   },
   "cell_type": "code",
   "source": "model.learn(1_000_000)",
   "id": "6f18fa7743f3ec1a",
   "outputs": [
    {
     "name": "stdout",
     "output_type": "stream",
     "text": [
      "---------------------------------\n",
      "| rollout/           |          |\n",
      "|    ep_len_mean     | 26.5     |\n",
      "|    ep_rew_mean     | 83.6     |\n",
      "|    success_rate    | 0.88     |\n",
      "| time/              |          |\n",
      "|    fps             | 86       |\n",
      "|    iterations      | 1        |\n",
      "|    time_elapsed    | 377      |\n",
      "|    total_timesteps | 32768    |\n",
      "---------------------------------\n"
     ]
    }
   ],
   "execution_count": null
  },
  {
   "metadata": {
    "ExecuteTime": {
     "end_time": "2025-06-18T09:07:37.194154Z",
     "start_time": "2025-06-18T09:07:36.859733Z"
    }
   },
   "cell_type": "code",
   "source": "model.save(\"agent_new.zip\")",
   "id": "67d89f2c15f5ee1f",
   "outputs": [],
   "execution_count": 145
  }
 ],
 "metadata": {
  "kernelspec": {
   "display_name": "Python 3",
   "language": "python",
   "name": "python3"
  },
  "language_info": {
   "codemirror_mode": {
    "name": "ipython",
    "version": 2
   },
   "file_extension": ".py",
   "mimetype": "text/x-python",
   "name": "python",
   "nbconvert_exporter": "python",
   "pygments_lexer": "ipython2",
   "version": "2.7.6"
  }
 },
 "nbformat": 4,
 "nbformat_minor": 5
}
