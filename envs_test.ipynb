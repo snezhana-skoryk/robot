{
 "cells": [
  {
   "cell_type": "code",
   "id": "initial_id",
   "metadata": {
    "collapsed": true,
    "ExecuteTime": {
     "end_time": "2025-05-18T20:49:44.615490Z",
     "start_time": "2025-05-18T20:49:44.331206Z"
    }
   },
   "source": [
    "import numpy as np\n",
    "from gymnasium import spaces\n",
    "from panda_gym import env_id\n",
    "from panda_gym.envs.core import PyBulletRobot\n",
    "from panda_gym.pybullet import PyBullet\n",
    "from PIL import Image"
   ],
   "outputs": [
    {
     "name": "stderr",
     "output_type": "stream",
     "text": [
      "pybullet build time: Sep  3 2024 12:59:12\n"
     ]
    }
   ],
   "execution_count": 1
  },
  {
   "metadata": {
    "ExecuteTime": {
     "end_time": "2025-05-18T20:49:54.926728Z",
     "start_time": "2025-05-18T20:49:54.913522Z"
    }
   },
   "cell_type": "code",
   "source": [
    "from typing import Optional\n",
    "\n",
    "import numpy as np\n",
    "from gymnasium import spaces\n",
    "\n",
    "from panda_gym.envs.core import PyBulletRobot\n",
    "from panda_gym.pybullet import PyBullet\n",
    "\n",
    "\n",
    "class UR5(PyBulletRobot):\n",
    "    \"\"\" UR5 robot in PyBullet.\n",
    "\n",
    "    Args:\n",
    "        sim (PyBullet): Simulation instance.\n",
    "        block_gripper (bool, optional): Whether the gripper is blocked. Defaults to False.\n",
    "        base_position (np.ndarray, optional): Position of the base of the robot, as (x, y, z). Defaults to (0, 0, 0).\n",
    "        control_type (str, optional): \"ee\" to control end-effector displacement or \"joints\" to control joint angles.\n",
    "            Defaults to \"ee\".\n",
    "    \"\"\"\n",
    "\n",
    "    def __init__(\n",
    "        self,\n",
    "        sim: PyBullet,\n",
    "        block_gripper: bool = False,\n",
    "        base_position: Optional[np.ndarray] = None,\n",
    "        control_type: str = \"ee\",\n",
    "    ) -> None:\n",
    "        base_position = base_position if base_position is not None else np.zeros(3)\n",
    "        self.block_gripper = block_gripper\n",
    "        self.control_type = control_type\n",
    "        n_action = 3 if self.control_type == \"ee\" else 6  # control (x, y z) if \"ee\", else, control the 7 joints\n",
    "        n_action += 0 if self.block_gripper else 1\n",
    "        action_space = spaces.Box(-1.0, 1.0, shape=(n_action,), dtype=np.float32)\n",
    "        super().__init__(\n",
    "            sim,\n",
    "            body_name=\"ur5_robot\",\n",
    "            file_name=\"ur_5_robot/urdf/ur5_with_gripper.urdf\",\n",
    "            base_position=base_position,\n",
    "            action_space=action_space,\n",
    "            joint_indices=np.array([1, 2, 3, 4, 5, 6, 10, 11]),\n",
    "            joint_forces=np.array([150.0, 150.0, 150.0, 28.0, 28.0, 28.0, 170.0, 170.0]),\n",
    "        )\n",
    "\n",
    "        self.fingers_indices = np.array([10, 11])\n",
    "        self.neutral_joint_values = np.deg2rad(np.array([180.0, -90.0, -90.0, -90.0, 90.0, -90.0, 0.00, 0.00]))\n",
    "        self.ee_link = 12\n",
    "        self.sim.set_lateral_friction(self.body_name, self.fingers_indices[0], lateral_friction=1.0)\n",
    "        self.sim.set_lateral_friction(self.body_name, self.fingers_indices[1], lateral_friction=1.0)\n",
    "        self.sim.set_spinning_friction(self.body_name, self.fingers_indices[0], spinning_friction=0.001)\n",
    "        self.sim.set_spinning_friction(self.body_name, self.fingers_indices[1], spinning_friction=0.001)\n",
    "\n",
    "    def set_action(self, action: np.ndarray) -> None:\n",
    "        action = action.copy()  # ensure action don't change\n",
    "        action = np.clip(action, self.action_space.low, self.action_space.high)\n",
    "        if self.control_type == \"ee\":\n",
    "            ee_displacement = action[:3]\n",
    "            target_arm_angles = self.ee_displacement_to_target_arm_angles(ee_displacement)\n",
    "        else:\n",
    "            arm_joint_ctrl = action[:6]\n",
    "            target_arm_angles = self.arm_joint_ctrl_to_target_arm_angles(arm_joint_ctrl)\n",
    "\n",
    "        if self.block_gripper:\n",
    "            target_fingers_width = 0\n",
    "        else:\n",
    "            fingers_ctrl = action[-1] * 0.2  # limit maximum change in position\n",
    "            fingers_width = self.get_fingers_width()\n",
    "            target_fingers_width = fingers_width + fingers_ctrl\n",
    "\n",
    "        target_angles = np.concatenate((target_arm_angles, [target_fingers_width / 2, target_fingers_width / 2]))\n",
    "        self.control_joints(target_angles=target_angles)\n",
    "\n",
    "    def ee_displacement_to_target_arm_angles(self, ee_displacement: np.ndarray) -> np.ndarray:\n",
    "        \"\"\"Compute the target arm angles from the end-effector displacement.\n",
    "\n",
    "        Args:\n",
    "            ee_displacement (np.ndarray): End-effector displacement, as (dx, dy, dy).\n",
    "\n",
    "        Returns:\n",
    "            np.ndarray: Target arm angles, as the angles of the 7 arm joints.\n",
    "        \"\"\"\n",
    "        ee_displacement = ee_displacement[:3] * 0.05  # limit maximum change in position\n",
    "        # get the current position and the target position\n",
    "        ee_position = self.get_ee_position()\n",
    "        target_ee_position = ee_position + ee_displacement\n",
    "        # Clip the height target. For some reason, it has a great impact on learning\n",
    "        target_ee_position[2] = np.max((0, target_ee_position[2]))\n",
    "        # compute the new joint angles\n",
    "        target_arm_angles = self.inverse_kinematics(\n",
    "            link=self.ee_link, position=target_ee_position, orientation=np.array([1.0, 0.0, 0.0, 0.0])\n",
    "        )\n",
    "        target_arm_angles = target_arm_angles[:6]  # remove fingers angles\n",
    "        return target_arm_angles\n",
    "\n",
    "    def arm_joint_ctrl_to_target_arm_angles(self, arm_joint_ctrl: np.ndarray) -> np.ndarray:\n",
    "        \"\"\"Compute the target arm angles from the arm joint control.\n",
    "\n",
    "        Args:\n",
    "            arm_joint_ctrl (np.ndarray): Control of the 7 joints.\n",
    "\n",
    "        Returns:\n",
    "            np.ndarray: Target arm angles, as the angles of the 7 arm joints.\n",
    "        \"\"\"\n",
    "        arm_joint_ctrl = arm_joint_ctrl * 0.05  # limit maximum change in position\n",
    "        # get the current position and the target position\n",
    "        current_arm_joint_angles = np.array([self.get_joint_angle(joint=i) for i in range(1, 7)])\n",
    "        target_arm_angles = current_arm_joint_angles + arm_joint_ctrl\n",
    "        return target_arm_angles\n",
    "\n",
    "    def get_obs(self) -> np.ndarray:\n",
    "        # end-effector position and velocity\n",
    "        ee_position = np.array(self.get_ee_position())\n",
    "        ee_velocity = np.array(self.get_ee_velocity())\n",
    "        # fingers opening\n",
    "        if not self.block_gripper:\n",
    "            fingers_width = self.get_fingers_width()\n",
    "            observation = np.concatenate((ee_position, ee_velocity, [fingers_width]))\n",
    "        else:\n",
    "            observation = np.concatenate((ee_position, ee_velocity))\n",
    "        return observation\n",
    "\n",
    "    def reset(self) -> None:\n",
    "        self.set_joint_neutral()\n",
    "\n",
    "    def set_joint_neutral(self) -> None:\n",
    "        \"\"\"Set the robot to its neutral pose.\"\"\"\n",
    "        self.set_joint_angles(self.neutral_joint_values)\n",
    "\n",
    "    def get_fingers_width(self) -> float:\n",
    "        \"\"\"Get the distance between the fingers.\"\"\"\n",
    "        finger1 = self.sim.get_joint_angle(self.body_name, self.fingers_indices[0])\n",
    "        finger2 = self.sim.get_joint_angle(self.body_name, self.fingers_indices[1])\n",
    "        return finger1 + finger2\n",
    "\n",
    "    def get_ee_position(self) -> np.ndarray:\n",
    "        \"\"\"Returns the position of the end-effector as (x, y, z)\"\"\"\n",
    "        return self.get_link_position(self.ee_link)\n",
    "\n",
    "    def get_ee_velocity(self) -> np.ndarray:\n",
    "        \"\"\"Returns the velocity of the end-effector as (vx, vy, vz)\"\"\"\n",
    "        return self.get_link_velocity(self.ee_link)"
   ],
   "id": "201f7c33dd3397a1",
   "outputs": [],
   "execution_count": 2
  },
  {
   "metadata": {
    "ExecuteTime": {
     "end_time": "2025-05-18T20:50:13.424253Z",
     "start_time": "2025-05-18T20:50:13.421371Z"
    }
   },
   "cell_type": "code",
   "source": [
    "from panda_gym.envs.core import RobotTaskEnv\n",
    "from panda_gym.envs.tasks.pick_and_place import PickAndPlace\n",
    "from panda_gym.envs.tasks.stack import Stack"
   ],
   "id": "a040b5dad5cd500c",
   "outputs": [],
   "execution_count": 4
  },
  {
   "metadata": {
    "ExecuteTime": {
     "end_time": "2025-05-18T20:41:30.068510Z",
     "start_time": "2025-05-18T20:41:30.066225Z"
    }
   },
   "cell_type": "code",
   "source": [
    "env_render_options = {\n",
    "    \"render_width\": 480,\n",
    "    \"render_height\": 480,\n",
    "    \"render_target_position\": [-0.2, 0, 0],\n",
    "    \"render_distance\": 1.2,\n",
    "    \"render_yaw\": 90,\n",
    "    \"render_pitch\": -30,\n",
    "    \"render_roll\": 0,\n",
    "}"
   ],
   "id": "bfe220134773386a",
   "outputs": [],
   "execution_count": 4
  },
  {
   "metadata": {
    "ExecuteTime": {
     "end_time": "2025-05-18T20:41:30.298407Z",
     "start_time": "2025-05-18T20:41:30.295181Z"
    }
   },
   "cell_type": "code",
   "source": [
    "class UR5StackEnv(RobotTaskEnv):\n",
    "    \"\"\"Pick and Place task wih Panda robot.\n",
    "\n",
    "    Args:\n",
    "        render_mode (str, optional): Render mode. Defaults to \"rgb_array\".\n",
    "        reward_type (str, optional): \"sparse\" or \"dense\". Defaults to \"sparse\".\n",
    "        control_type (str, optional): \"ee\" to control end-effector position or \"joints\" to control joint values.\n",
    "            Defaults to \"ee\".\n",
    "        renderer (str, optional): Renderer, either \"Tiny\" or OpenGL\". Defaults to \"Tiny\" if render mode is \"human\"\n",
    "            and \"OpenGL\" if render mode is \"rgb_array\". Only \"OpenGL\" is available for human render mode.\n",
    "        render_width (int, optional): Image width. Defaults to 720.\n",
    "        render_height (int, optional): Image height. Defaults to 480.\n",
    "        render_target_position (np.ndarray, optional): Camera targeting this position, as (x, y, z).\n",
    "            Defaults to [0., 0., 0.].\n",
    "        render_distance (float, optional): Distance of the camera. Defaults to 1.4.\n",
    "        render_yaw (float, optional): Yaw of the camera. Defaults to 45.\n",
    "        render_pitch (float, optional): Pitch of the camera. Defaults to -30.\n",
    "        render_roll (int, optional): Roll of the camera. Defaults to 0.\n",
    "    \"\"\"\n",
    "\n",
    "    def __init__(\n",
    "        self,\n",
    "        render_mode: str = \"rgb_array\",\n",
    "        reward_type: str = \"sparse\",\n",
    "        control_type: str = \"ee\",\n",
    "        renderer: str = \"Tiny\",\n",
    "        render_width: int = 720,\n",
    "        render_height: int = 480,\n",
    "        render_target_position: Optional[np.ndarray] = None,\n",
    "        render_distance: float = 1.4,\n",
    "        render_yaw: float = 45,\n",
    "        render_pitch: float = -30,\n",
    "        render_roll: float = 0,\n",
    "    ) -> None:\n",
    "        sim = PyBullet(render_mode=render_mode, renderer=renderer)\n",
    "        robot = UR5(sim, block_gripper=False, base_position=np.array([-0.6, 0.0, 0.0]), control_type=control_type)\n",
    "        task = Stack(sim, reward_type=reward_type)\n",
    "        super().__init__(\n",
    "            robot,\n",
    "            task,\n",
    "            render_width=render_width,\n",
    "            render_height=render_height,\n",
    "            render_target_position=render_target_position,\n",
    "            render_distance=render_distance,\n",
    "            render_yaw=render_yaw,\n",
    "            render_pitch=render_pitch,\n",
    "            render_roll=render_roll,\n",
    "        )\n"
   ],
   "id": "c31701d93179c137",
   "outputs": [],
   "execution_count": 5
  },
  {
   "metadata": {
    "ExecuteTime": {
     "end_time": "2025-05-18T16:42:30.710180Z",
     "start_time": "2025-05-18T16:42:27.425468Z"
    }
   },
   "cell_type": "code",
   "source": [
    "import gymnasium as gym\n",
    "import panda_gym\n",
    "\n",
    "env = UR5StackEnv(render_mode=\"rgb_array\", **env_render_options, control_type='joints')\n",
    "\n",
    "observation, info = env.reset()\n",
    "\n",
    "images = [env.render()]\n",
    "for _ in range(100):\n",
    "    action = env.action_space.sample() # random action\n",
    "    observation, reward, terminated, truncated, info = env.step(action)\n",
    "    images.append(env.render())\n",
    "\n",
    "    if terminated or truncated:\n",
    "        observation, info = env.reset()\n",
    "\n",
    "env.close()"
   ],
   "id": "443d5474f9ea9695",
   "outputs": [
    {
     "name": "stdout",
     "output_type": "stream",
     "text": [
      "argv[0]=--background_color_red=0.8745098114013672\n",
      "argv[1]=--background_color_green=0.21176470816135406\n",
      "argv[2]=--background_color_blue=0.1764705926179886\n",
      "b3Warning[examples/Importers/ImportURDFDemo/BulletUrdfImporter.cpp,126]:\n",
      "No inertial data for link, using mass=1, localinertiadiagonal = 1,1,1, identity local inertial frameb3Warning[examples/Importers/ImportURDFDemo/BulletUrdfImporter.cpp,126]:\n",
      "base_linkb3Warning[examples/Importers/ImportURDFDemo/BulletUrdfImporter.cpp,126]:\n",
      "No inertial data for link, using mass=1, localinertiadiagonal = 1,1,1, identity local inertial frameb3Warning[examples/Importers/ImportURDFDemo/BulletUrdfImporter.cpp,126]:\n",
      "baseb3Warning[examples/Importers/ImportURDFDemo/BulletUrdfImporter.cpp,126]:\n",
      "No inertial data for link, using mass=1, localinertiadiagonal = 1,1,1, identity local inertial frameb3Warning[examples/Importers/ImportURDFDemo/BulletUrdfImporter.cpp,126]:\n",
      "flangeb3Warning[examples/Importers/ImportURDFDemo/BulletUrdfImporter.cpp,126]:\n",
      "No inertial data for link, using mass=1, localinertiadiagonal = 1,1,1, identity local inertial frameb3Warning[examples/Importers/ImportURDFDemo/BulletUrdfImporter.cpp,126]:\n",
      "tool0b3Warning[examples/Importers/ImportURDFDemo/BulletUrdfImporter.cpp,126]:\n",
      "No inertial data for link, using mass=1, localinertiadiagonal = 1,1,1, identity local inertial frameb3Warning[examples/Importers/ImportURDFDemo/BulletUrdfImporter.cpp,126]:\n",
      "panda_handb3Warning[examples/Importers/ImportURDFDemo/BulletUrdfImporter.cpp,126]:\n",
      "No inertial data for link, using mass=1, localinertiadiagonal = 1,1,1, identity local inertial frameb3Warning[examples/Importers/ImportURDFDemo/BulletUrdfImporter.cpp,126]:\n",
      "panda_leftfingerb3Warning[examples/Importers/ImportURDFDemo/BulletUrdfImporter.cpp,126]:\n",
      "No inertial data for link, using mass=1, localinertiadiagonal = 1,1,1, identity local inertial frameb3Warning[examples/Importers/ImportURDFDemo/BulletUrdfImporter.cpp,126]:\n",
      "panda_rightfinger"
     ]
    }
   ],
   "execution_count": 6
  },
  {
   "metadata": {
    "ExecuteTime": {
     "end_time": "2025-05-18T16:42:31.802315Z",
     "start_time": "2025-05-18T16:42:30.717961Z"
    }
   },
   "cell_type": "code",
   "source": [
    "frames = [Image.fromarray(img) for img in images]\n",
    "frames[0].save(\n",
    "        f\"ur5_stack_color.gif\",\n",
    "        save_all=True, append_images=frames[1:],\n",
    "        duration=100, loop=0\n",
    "    )"
   ],
   "id": "9108b6789f03db4d",
   "outputs": [],
   "execution_count": 7
  },
  {
   "metadata": {
    "ExecuteTime": {
     "end_time": "2025-05-18T17:36:00.313743Z",
     "start_time": "2025-05-18T17:36:00.311464Z"
    }
   },
   "cell_type": "code",
   "source": [
    "env_render_options = {\n",
    "    \"render_width\": 480,\n",
    "    \"render_height\": 720,\n",
    "    \"render_target_position\": [-0.5, 0.3, 0.5],\n",
    "    \"render_distance\": 2,\n",
    "    \"render_yaw\": -25,\n",
    "    \"render_pitch\": -10,\n",
    "    \"render_roll\": 0,\n",
    "}"
   ],
   "id": "7af18c364ce6e1fb",
   "outputs": [],
   "execution_count": 113
  },
  {
   "metadata": {
    "ExecuteTime": {
     "end_time": "2025-05-18T17:37:18.759280Z",
     "start_time": "2025-05-18T17:37:18.612193Z"
    }
   },
   "cell_type": "code",
   "source": [
    "import gymnasium as gym\n",
    "import panda_gym\n",
    "angles = np.deg2rad(np.array([90, -90, -25, -65, 90, 90, 1.5, 1.5]))\n",
    "env = UR5StackEnv(render_mode=\"rgb_array\", **env_render_options, control_type='joints')\n",
    "observation, info = env.reset()\n",
    "env.robot.set_joint_angles(angles)\n",
    "img = env.render()\n",
    "Image.fromarray(img).save(f\"ur5_demonstration.png\")"
   ],
   "id": "10cfdf97418ff781",
   "outputs": [
    {
     "name": "stdout",
     "output_type": "stream",
     "text": [
      "argv[0]=--background_color_red=0.8745098114013672\n",
      "argv[1]=--background_color_green=0.21176470816135406\n",
      "argv[2]=--background_color_blue=0.1764705926179886\n",
      "b3Warning[examples/Importers/ImportURDFDemo/BulletUrdfImporter.cpp,126]:\n",
      "No inertial data for link, using mass=1, localinertiadiagonal = 1,1,1, identity local inertial frameb3Warning[examples/Importers/ImportURDFDemo/BulletUrdfImporter.cpp,126]:\n",
      "base_linkb3Warning[examples/Importers/ImportURDFDemo/BulletUrdfImporter.cpp,126]:\n",
      "No inertial data for link, using mass=1, localinertiadiagonal = 1,1,1, identity local inertial frameb3Warning[examples/Importers/ImportURDFDemo/BulletUrdfImporter.cpp,126]:\n",
      "baseb3Warning[examples/Importers/ImportURDFDemo/BulletUrdfImporter.cpp,126]:\n",
      "No inertial data for link, using mass=1, localinertiadiagonal = 1,1,1, identity local inertial frameb3Warning[examples/Importers/ImportURDFDemo/BulletUrdfImporter.cpp,126]:\n",
      "flangeb3Warning[examples/Importers/ImportURDFDemo/BulletUrdfImporter.cpp,126]:\n",
      "No inertial data for link, using mass=1, localinertiadiagonal = 1,1,1, identity local inertial frameb3Warning[examples/Importers/ImportURDFDemo/BulletUrdfImporter.cpp,126]:\n",
      "tool0b3Warning[examples/Importers/ImportURDFDemo/BulletUrdfImporter.cpp,126]:\n",
      "No inertial data for link, using mass=1, localinertiadiagonal = 1,1,1, identity local inertial frameb3Warning[examples/Importers/ImportURDFDemo/BulletUrdfImporter.cpp,126]:\n",
      "panda_handb3Warning[examples/Importers/ImportURDFDemo/BulletUrdfImporter.cpp,126]:\n",
      "No inertial data for link, using mass=1, localinertiadiagonal = 1,1,1, identity local inertial frameb3Warning[examples/Importers/ImportURDFDemo/BulletUrdfImporter.cpp,126]:\n",
      "panda_leftfingerb3Warning[examples/Importers/ImportURDFDemo/BulletUrdfImporter.cpp,126]:\n",
      "No inertial data for link, using mass=1, localinertiadiagonal = 1,1,1, identity local inertial frameb3Warning[examples/Importers/ImportURDFDemo/BulletUrdfImporter.cpp,126]:\n",
      "panda_rightfinger"
     ]
    }
   ],
   "execution_count": 119
  },
  {
   "metadata": {},
   "cell_type": "markdown",
   "source": "# Making frames and gifs",
   "id": "73f80caa869b98a0"
  },
  {
   "metadata": {
    "ExecuteTime": {
     "end_time": "2025-05-18T20:50:15.694253Z",
     "start_time": "2025-05-18T20:50:15.688354Z"
    }
   },
   "cell_type": "code",
   "source": [
    "class UR5PickAndPlaceEnv(RobotTaskEnv):\n",
    "    \"\"\"Pick and Place task wih Panda robot.\n",
    "\n",
    "    Args:\n",
    "        render_mode (str, optional): Render mode. Defaults to \"rgb_array\".\n",
    "        reward_type (str, optional): \"sparse\" or \"dense\". Defaults to \"sparse\".\n",
    "        control_type (str, optional): \"ee\" to control end-effector position or \"joints\" to control joint values.\n",
    "            Defaults to \"ee\".\n",
    "        renderer (str, optional): Renderer, either \"Tiny\" or OpenGL\". Defaults to \"Tiny\" if render mode is \"human\"\n",
    "            and \"OpenGL\" if render mode is \"rgb_array\". Only \"OpenGL\" is available for human render mode.\n",
    "        render_width (int, optional): Image width. Defaults to 720.\n",
    "        render_height (int, optional): Image height. Defaults to 480.\n",
    "        render_target_position (np.ndarray, optional): Camera targeting this position, as (x, y, z).\n",
    "            Defaults to [0., 0., 0.].\n",
    "        render_distance (float, optional): Distance of the camera. Defaults to 1.4.\n",
    "        render_yaw (float, optional): Yaw of the camera. Defaults to 45.\n",
    "        render_pitch (float, optional): Pitch of the camera. Defaults to -30.\n",
    "        render_roll (int, optional): Roll of the camera. Defaults to 0.\n",
    "    \"\"\"\n",
    "\n",
    "    def __init__(\n",
    "        self,\n",
    "        render_mode: str = \"rgb_array\",\n",
    "        reward_type: str = \"sparse\",\n",
    "        control_type: str = \"ee\",\n",
    "        renderer: str = \"Tiny\",\n",
    "        render_width: int = 720,\n",
    "        render_height: int = 480,\n",
    "        render_target_position: Optional[np.ndarray] = None,\n",
    "        render_distance: float = 1.4,\n",
    "        render_yaw: float = 45,\n",
    "        render_pitch: float = -30,\n",
    "        render_roll: float = 0,\n",
    "    ) -> None:\n",
    "        sim = PyBullet(render_mode=render_mode, renderer=renderer)\n",
    "        robot = UR5(sim, block_gripper=False, base_position=np.array([-0.6, 0.0, 0.0]), control_type=control_type)\n",
    "        task = PickAndPlace(sim, reward_type=reward_type)\n",
    "        super().__init__(\n",
    "            robot,\n",
    "            task,\n",
    "            render_width=render_width,\n",
    "            render_height=render_height,\n",
    "            render_target_position=render_target_position,\n",
    "            render_distance=render_distance,\n",
    "            render_yaw=render_yaw,\n",
    "            render_pitch=render_pitch,\n",
    "            render_roll=render_roll,\n",
    "        )\n"
   ],
   "id": "68cc776f639f19ab",
   "outputs": [],
   "execution_count": 5
  },
  {
   "metadata": {
    "ExecuteTime": {
     "end_time": "2025-05-18T20:50:44.761187Z",
     "start_time": "2025-05-18T20:50:44.758659Z"
    }
   },
   "cell_type": "code",
   "source": [
    "env_render_options = {\n",
    "    \"render_width\": 480,\n",
    "    \"render_height\": 480,\n",
    "    \"render_target_position\": [-0.4, 0.4, 0],\n",
    "    \"render_distance\": 1.65,\n",
    "    \"render_yaw\": 0,\n",
    "    \"render_pitch\": -30,\n",
    "    \"render_roll\": 0,\n",
    "}"
   ],
   "id": "bf489da89a0e3adb",
   "outputs": [],
   "execution_count": 10
  },
  {
   "metadata": {},
   "cell_type": "code",
   "source": [
    "env = UR5PickAndPlaceEnv(render_mode=\"rgb_array\", **env_render_options, control_type='joints')\n",
    "\n",
    "angle_step = 0.25\n",
    "\n",
    "for j in range(1, 7):\n",
    "    observation, info = env.reset()\n",
    "    images = [env.render()]\n",
    "    for i in range(100):\n",
    "        action = np.zeros(env.action_space.shape)\n",
    "        action[j - 1] = -angle_step\n",
    "        observation, reward, terminated, truncated, info = env.step(action)\n",
    "        images.append(env.render())\n",
    "\n",
    "    frames = [Image.fromarray(img) for img in images]\n",
    "    frames[0].save(\n",
    "        f\"demo/joint_{j}.gif\",\n",
    "        save_all=True, append_images=frames[1:],\n",
    "        duration=100, loop=0\n",
    "    )"
   ],
   "id": "43caa4f763a8049a",
   "outputs": [],
   "execution_count": null
  },
  {
   "metadata": {
    "ExecuteTime": {
     "end_time": "2025-05-18T19:25:00.943157Z",
     "start_time": "2025-05-18T19:24:56.638558Z"
    }
   },
   "cell_type": "code",
   "source": [
    "observation, info = env.reset()\n",
    "j = 7\n",
    "gripper_step = 0.01\n",
    "default_angles = env.robot.neutral_joint_values\n",
    "default_angles[j - 2] -= np.pi / 4\n",
    "env.robot.set_joint_angles(default_angles)\n",
    "\n",
    "images = [env.render()]\n",
    "for i in range(100):\n",
    "    action = np.zeros(env.action_space.shape)\n",
    "    action[j - 1] = gripper_step\n",
    "    observation, reward, terminated, truncated, info = env.step(action)\n",
    "    images.append(env.render())\n",
    "\n",
    "frames = [Image.fromarray(img) for img in images]\n",
    "frames[0].save(\n",
    "    f\"demo/gripper.gif\",\n",
    "    save_all=True, append_images=frames[1:],\n",
    "    duration=100, loop=0\n",
    ")"
   ],
   "id": "f0ad39eaa48f50f4",
   "outputs": [],
   "execution_count": 13
  },
  {
   "metadata": {
    "ExecuteTime": {
     "end_time": "2025-05-18T21:05:10.904806Z",
     "start_time": "2025-05-18T21:05:10.902981Z"
    }
   },
   "cell_type": "code",
   "source": [
    "env_render_options = {\n",
    "    \"render_width\": 480,\n",
    "    \"render_height\": 480,\n",
    "    \"render_target_position\": [-0.2, 0, 0],\n",
    "    \"render_distance\": 1.2,\n",
    "    \"render_yaw\": 90,\n",
    "    \"render_pitch\": -30,\n",
    "    \"render_roll\": 0,\n",
    "}"
   ],
   "id": "9a0cd1371cbf7af",
   "outputs": [],
   "execution_count": 62
  },
  {
   "metadata": {
    "ExecuteTime": {
     "end_time": "2025-05-18T21:07:13.942299Z",
     "start_time": "2025-05-18T21:07:09.484284Z"
    }
   },
   "cell_type": "code",
   "source": [
    "import gymnasium as gym\n",
    "import panda_gym\n",
    "\n",
    "env = UR5PickAndPlaceEnv(render_mode=\"rgb_array\", **env_render_options, control_type='joints')\n",
    "\n",
    "observation, info = env.reset()\n",
    "\n",
    "images = [env.render()]\n",
    "for _ in range(100):\n",
    "    action = env.action_space.sample() # random action\n",
    "    observation, reward, terminated, truncated, info = env.step(0.5 * action)\n",
    "    images.append(env.render())\n",
    "\n",
    "    if terminated or truncated:\n",
    "        observation, info = env.reset()\n",
    "\n",
    "env.close()\n",
    "\n",
    "frames = [Image.fromarray(img) for img in images]\n",
    "frames[0].save(\n",
    "    f\"demo/moving.gif\",\n",
    "    save_all=True, append_images=frames[1:],\n",
    "    duration=100, loop=0\n",
    ")"
   ],
   "id": "ce1b9efc14cad1ee",
   "outputs": [
    {
     "name": "stdout",
     "output_type": "stream",
     "text": [
      "argv[0]=--background_color_red=0.8745098114013672\n",
      "argv[1]=--background_color_green=0.21176470816135406\n",
      "argv[2]=--background_color_blue=0.1764705926179886\n",
      "b3Warning[examples/Importers/ImportURDFDemo/BulletUrdfImporter.cpp,126]:\n",
      "No inertial data for link, using mass=1, localinertiadiagonal = 1,1,1, identity local inertial frameb3Warning[examples/Importers/ImportURDFDemo/BulletUrdfImporter.cpp,126]:\n",
      "base_linkb3Warning[examples/Importers/ImportURDFDemo/BulletUrdfImporter.cpp,126]:\n",
      "No inertial data for link, using mass=1, localinertiadiagonal = 1,1,1, identity local inertial frameb3Warning[examples/Importers/ImportURDFDemo/BulletUrdfImporter.cpp,126]:\n",
      "baseb3Warning[examples/Importers/ImportURDFDemo/BulletUrdfImporter.cpp,126]:\n",
      "No inertial data for link, using mass=1, localinertiadiagonal = 1,1,1, identity local inertial frameb3Warning[examples/Importers/ImportURDFDemo/BulletUrdfImporter.cpp,126]:\n",
      "flangeb3Warning[examples/Importers/ImportURDFDemo/BulletUrdfImporter.cpp,126]:\n",
      "No inertial data for link, using mass=1, localinertiadiagonal = 1,1,1, identity local inertial frameb3Warning[examples/Importers/ImportURDFDemo/BulletUrdfImporter.cpp,126]:\n",
      "tool0b3Warning[examples/Importers/ImportURDFDemo/BulletUrdfImporter.cpp,126]:\n",
      "No inertial data for link, using mass=1, localinertiadiagonal = 1,1,1, identity local inertial frameb3Warning[examples/Importers/ImportURDFDemo/BulletUrdfImporter.cpp,126]:\n",
      "panda_handb3Warning[examples/Importers/ImportURDFDemo/BulletUrdfImporter.cpp,126]:\n",
      "No inertial data for link, using mass=1, localinertiadiagonal = 1,1,1, identity local inertial frameb3Warning[examples/Importers/ImportURDFDemo/BulletUrdfImporter.cpp,126]:\n",
      "panda_leftfingerb3Warning[examples/Importers/ImportURDFDemo/BulletUrdfImporter.cpp,126]:\n",
      "No inertial data for link, using mass=1, localinertiadiagonal = 1,1,1, identity local inertial frameb3Warning[examples/Importers/ImportURDFDemo/BulletUrdfImporter.cpp,126]:\n",
      "panda_rightfinger"
     ]
    }
   ],
   "execution_count": 66
  },
  {
   "metadata": {
    "ExecuteTime": {
     "end_time": "2025-05-18T21:07:36.138373Z",
     "start_time": "2025-05-18T21:07:31.637482Z"
    }
   },
   "cell_type": "code",
   "source": [
    "env = UR5PickAndPlaceEnv(render_mode=\"rgb_array\", **env_render_options, control_type='ee')\n",
    "start_position = env.robot.get_ee_position()\n",
    "observation, info = env.reset()\n",
    "images = [env.render()]\n",
    "for i in range(100):\n",
    "    if i < 25:\n",
    "        gripper_step = 0\n",
    "        coords_action = observation['achieved_goal'] - env.robot.get_ee_position()\n",
    "        coords_action[2] = 0\n",
    "    elif i > 25 and i < 50:\n",
    "        gripper_step = 0.1\n",
    "        coords_action = observation['achieved_goal'] - env.robot.get_ee_position()\n",
    "        coords_action[2] -= 0.0001\n",
    "        print(env.robot.get_ee_position())\n",
    "    elif i > 50 and i < 75:\n",
    "        gripper_step = -0.1\n",
    "        coords_action = np.zeros(3)\n",
    "    else:\n",
    "        gripper_step = 0\n",
    "        coords_action = start_position - env.robot.get_ee_position()\n",
    "    action = np.concatenate((3 * coords_action, np.array([gripper_step])))\n",
    "    observation, reward, terminated, truncated, info = env.step(action)\n",
    "    images.append(env.render())\n",
    "\n",
    "frames = [Image.fromarray(img) for img in images]\n",
    "frames[0].save(\n",
    "    f\"demo/moving.gif\",\n",
    "    save_all=True, append_images=frames[1:],\n",
    "    duration=100, loop=0\n",
    ")"
   ],
   "id": "5ab0db1f6c7d4840",
   "outputs": [
    {
     "name": "stdout",
     "output_type": "stream",
     "text": [
      "argv[0]=--background_color_red=0.8745098114013672\n",
      "argv[1]=--background_color_green=0.21176470816135406\n",
      "argv[2]=--background_color_blue=0.1764705926179886\n",
      "b3Warning[examples/Importers/ImportURDFDemo/BulletUrdfImporter.cpp,126]:\n",
      "No inertial data for link, using mass=1, localinertiadiagonal = 1,1,1, identity local inertial frameb3Warning[examples/Importers/ImportURDFDemo/BulletUrdfImporter.cpp,126]:\n",
      "base_linkb3Warning[examples/Importers/ImportURDFDemo/BulletUrdfImporter.cpp,126]:\n",
      "No inertial data for link, using mass=1, localinertiadiagonal = 1,1,1, identity local inertial frameb3Warning[examples/Importers/ImportURDFDemo/BulletUrdfImporter.cpp,126]:\n",
      "baseb3Warning[examples/Importers/ImportURDFDemo/BulletUrdfImporter.cpp,126]:\n",
      "No inertial data for link, using mass=1, localinertiadiagonal = 1,1,1, identity local inertial frameb3Warning[examples/Importers/ImportURDFDemo/BulletUrdfImporter.cpp,126]:\n",
      "flangeb3Warning[examples/Importers/ImportURDFDemo/BulletUrdfImporter.cpp,126]:\n",
      "No inertial data for link, using mass=1, localinertiadiagonal = 1,1,1, identity local inertial frameb3Warning[examples/Importers/ImportURDFDemo/BulletUrdfImporter.cpp,126]:\n",
      "tool0b3Warning[examples/Importers/ImportURDFDemo/BulletUrdfImporter.cpp,126]:\n",
      "No inertial data for link, using mass=1, localinertiadiagonal = 1,1,1, identity local inertial frameb3Warning[examples/Importers/ImportURDFDemo/BulletUrdfImporter.cpp,126]:\n",
      "panda_handb3Warning[examples/Importers/ImportURDFDemo/BulletUrdfImporter.cpp,126]:\n",
      "No inertial data for link, using mass=1, localinertiadiagonal = 1,1,1, identity local inertial frameb3Warning[examples/Importers/ImportURDFDemo/BulletUrdfImporter.cpp,126]:\n",
      "panda_leftfingerb3Warning[examples/Importers/ImportURDFDemo/BulletUrdfImporter.cpp,126]:\n",
      "No inertial data for link, using mass=1, localinertiadiagonal = 1,1,1, identity local inertial frameb3Warning[examples/Importers/ImportURDFDemo/BulletUrdfImporter.cpp,126]:\n",
      "panda_rightfinger[0.06503289 0.10106115 0.29426815]\n",
      "[0.0689589  0.09415733 0.28448084]\n",
      "[0.0756188  0.09970663 0.2451807 ]\n",
      "[0.08281939 0.10468009 0.20782039]\n",
      "[0.08829043 0.10879332 0.17634534]\n",
      "[0.09194946 0.1121217  0.15058861]\n",
      "[0.09423133 0.11483229 0.12979191]\n",
      "[0.0955735  0.11706637 0.11351128]\n",
      "[0.09629935 0.11893675 0.09994754]\n",
      "[0.09666763 0.12052292 0.0889141 ]\n",
      "[0.09679072 0.12187545 0.07985012]\n",
      "[0.09675801 0.1230342  0.0723129 ]\n",
      "[0.09662478 0.12402722 0.06573841]\n",
      "[0.09644309 0.12488164 0.06001571]\n",
      "[0.09623106 0.12561685 0.05499141]\n",
      "[0.09600365 0.12624995 0.05058325]\n",
      "[0.09576928 0.12679519 0.04672008]\n",
      "[0.09553362 0.1272646  0.04333473]\n",
      "[0.09530094 0.12766866 0.04036848]\n",
      "[0.09507435 0.12801585 0.03777443]\n",
      "[0.09485621 0.12828983 0.03550679]\n",
      "[0.09464769 0.12846912 0.03352474]\n",
      "[0.09444881 0.12856486 0.03179237]\n",
      "[0.0942598  0.12858731 0.03027831]\n"
     ]
    }
   ],
   "execution_count": 67
  },
  {
   "metadata": {
    "ExecuteTime": {
     "end_time": "2025-05-18T21:07:37.779862Z",
     "start_time": "2025-05-18T21:07:37.776115Z"
    }
   },
   "cell_type": "code",
   "source": "env.sim.get_link_position(\"ur5_robot\", 12)",
   "id": "8a4dbf026471ffe0",
   "outputs": [
    {
     "data": {
      "text/plain": [
       "array([-0.1080284 , -0.10167229,  0.31185585])"
      ]
     },
     "execution_count": 68,
     "metadata": {},
     "output_type": "execute_result"
    }
   ],
   "execution_count": 68
  },
  {
   "metadata": {
    "ExecuteTime": {
     "end_time": "2025-05-18T21:07:42.412348Z",
     "start_time": "2025-05-18T21:07:42.408638Z"
    }
   },
   "cell_type": "code",
   "source": "env.sim.get_link_position(\"ur5_robot\", 11)",
   "id": "4c99ce2d81882ae9",
   "outputs": [
    {
     "data": {
      "text/plain": [
       "array([-0.10802813, -0.07003352,  0.3584559 ])"
      ]
     },
     "execution_count": 69,
     "metadata": {},
     "output_type": "execute_result"
    }
   ],
   "execution_count": 69
  },
  {
   "metadata": {
    "ExecuteTime": {
     "end_time": "2025-05-18T21:07:43.069873Z",
     "start_time": "2025-05-18T21:07:43.066316Z"
    }
   },
   "cell_type": "code",
   "source": "env.sim.get_link_position(\"ur5_robot\", 10)\n",
   "id": "f975eb17f5bf13d8",
   "outputs": [
    {
     "data": {
      "text/plain": [
       "array([-0.10802851, -0.13331202,  0.35845579])"
      ]
     },
     "execution_count": 70,
     "metadata": {},
     "output_type": "execute_result"
    }
   ],
   "execution_count": 70
  },
  {
   "metadata": {
    "ExecuteTime": {
     "end_time": "2025-05-18T21:14:24.402052Z",
     "start_time": "2025-05-18T21:14:24.396858Z"
    }
   },
   "cell_type": "code",
   "source": "observation['achieved_goal']",
   "id": "68c8a5d5c005c910",
   "outputs": [
    {
     "data": {
      "text/plain": [
       "array([ 0.11317387, -0.04439889,  0.01998941], dtype=float32)"
      ]
     },
     "execution_count": 83,
     "metadata": {},
     "output_type": "execute_result"
    }
   ],
   "execution_count": 83
  },
  {
   "metadata": {
    "ExecuteTime": {
     "end_time": "2025-05-18T21:07:49.626460Z",
     "start_time": "2025-05-18T21:07:49.623096Z"
    }
   },
   "cell_type": "code",
   "source": "observation['desired_goal']",
   "id": "2060895f792039af",
   "outputs": [
    {
     "data": {
      "text/plain": [
       "array([0.13937998, 0.02813193, 0.12348087], dtype=float32)"
      ]
     },
     "execution_count": 72,
     "metadata": {},
     "output_type": "execute_result"
    }
   ],
   "execution_count": 72
  },
  {
   "metadata": {
    "ExecuteTime": {
     "end_time": "2025-05-18T20:46:59.635068Z",
     "start_time": "2025-05-18T20:46:59.630423Z"
    }
   },
   "cell_type": "code",
   "source": "np.mean([env.sim.get_link_position(\"ur5_robot\", 10), env.sim.get_link_position(\"ur5_robot\", 11)], axis=0)",
   "id": "5fa48026af6c28d1",
   "outputs": [
    {
     "data": {
      "text/plain": [
       "array([-0.11703223, -0.10254358,  0.3518938 ])"
      ]
     },
     "execution_count": 26,
     "metadata": {},
     "output_type": "execute_result"
    }
   ],
   "execution_count": 26
  },
  {
   "metadata": {
    "ExecuteTime": {
     "end_time": "2025-05-18T20:39:20.061673Z",
     "start_time": "2025-05-18T20:39:20.059211Z"
    }
   },
   "cell_type": "code",
   "source": "env.sim.get_link_position(\"ur5_robot\", 9)\n",
   "id": "d4e4a453cfa13812",
   "outputs": [
    {
     "data": {
      "text/plain": [
       "array([-0.19024541, -0.08289785,  0.76379192])"
      ]
     },
     "execution_count": 160,
     "metadata": {},
     "output_type": "execute_result"
    }
   ],
   "execution_count": 160
  },
  {
   "metadata": {
    "ExecuteTime": {
     "end_time": "2025-05-18T20:38:08.516607Z",
     "start_time": "2025-05-18T20:38:08.488236Z"
    }
   },
   "cell_type": "code",
   "source": "env.sim.get_joint_position(\"ur5_robot\", 9)\n",
   "id": "f03d803d07b19280",
   "outputs": [
    {
     "ename": "AttributeError",
     "evalue": "'PyBullet' object has no attribute 'get_joint_position'",
     "output_type": "error",
     "traceback": [
      "\u001B[31m---------------------------------------------------------------------------\u001B[39m",
      "\u001B[31mAttributeError\u001B[39m                            Traceback (most recent call last)",
      "\u001B[36mCell\u001B[39m\u001B[36m \u001B[39m\u001B[32mIn[148]\u001B[39m\u001B[32m, line 1\u001B[39m\n\u001B[32m----> \u001B[39m\u001B[32m1\u001B[39m env.sim.get_joint_position(\u001B[33m\"\u001B[39m\u001B[33mur5_robot\u001B[39m\u001B[33m\"\u001B[39m, \u001B[32m9\u001B[39m)\n",
      "\u001B[31mAttributeError\u001B[39m: 'PyBullet' object has no attribute 'get_joint_position'"
     ]
    }
   ],
   "execution_count": 148
  },
  {
   "metadata": {
    "ExecuteTime": {
     "end_time": "2025-05-18T21:15:27.613177Z",
     "start_time": "2025-05-18T21:15:23.144169Z"
    }
   },
   "cell_type": "code",
   "source": [
    "env = UR5PickAndPlaceEnv(render_mode=\"rgb_array\", **env_render_options, control_type='ee')\n",
    "start_position = env.robot.get_ee_position()\n",
    "observation, info = env.reset()\n",
    "images = [env.render()]\n",
    "for i in range(100):\n",
    "    gripper_step = 0.05\n",
    "    coords_action = np.array([0.2, 0.1, 0.01]) - env.robot.get_ee_position()\n",
    "    action = np.concatenate((3 * coords_action, np.array([gripper_step])))\n",
    "    observation, reward, terminated, truncated, info = env.step(0.1 * action)\n",
    "    images.append(env.render())\n",
    "\n",
    "frames = [Image.fromarray(img) for img in images]\n",
    "frames[0].save(\n",
    "    f\"demo/moving.gif\",\n",
    "    save_all=True, append_images=frames[1:],\n",
    "    duration=100, loop=0\n",
    ")"
   ],
   "id": "e69afafd4b0b3b03",
   "outputs": [
    {
     "name": "stdout",
     "output_type": "stream",
     "text": [
      "argv[0]=--background_color_red=0.8745098114013672\n",
      "argv[1]=--background_color_green=0.21176470816135406\n",
      "argv[2]=--background_color_blue=0.1764705926179886\n",
      "b3Warning[examples/Importers/ImportURDFDemo/BulletUrdfImporter.cpp,126]:\n",
      "No inertial data for link, using mass=1, localinertiadiagonal = 1,1,1, identity local inertial frameb3Warning[examples/Importers/ImportURDFDemo/BulletUrdfImporter.cpp,126]:\n",
      "base_linkb3Warning[examples/Importers/ImportURDFDemo/BulletUrdfImporter.cpp,126]:\n",
      "No inertial data for link, using mass=1, localinertiadiagonal = 1,1,1, identity local inertial frameb3Warning[examples/Importers/ImportURDFDemo/BulletUrdfImporter.cpp,126]:\n",
      "baseb3Warning[examples/Importers/ImportURDFDemo/BulletUrdfImporter.cpp,126]:\n",
      "No inertial data for link, using mass=1, localinertiadiagonal = 1,1,1, identity local inertial frameb3Warning[examples/Importers/ImportURDFDemo/BulletUrdfImporter.cpp,126]:\n",
      "flangeb3Warning[examples/Importers/ImportURDFDemo/BulletUrdfImporter.cpp,126]:\n",
      "No inertial data for link, using mass=1, localinertiadiagonal = 1,1,1, identity local inertial frameb3Warning[examples/Importers/ImportURDFDemo/BulletUrdfImporter.cpp,126]:\n",
      "tool0b3Warning[examples/Importers/ImportURDFDemo/BulletUrdfImporter.cpp,126]:\n",
      "No inertial data for link, using mass=1, localinertiadiagonal = 1,1,1, identity local inertial frameb3Warning[examples/Importers/ImportURDFDemo/BulletUrdfImporter.cpp,126]:\n",
      "panda_handb3Warning[examples/Importers/ImportURDFDemo/BulletUrdfImporter.cpp,126]:\n",
      "No inertial data for link, using mass=1, localinertiadiagonal = 1,1,1, identity local inertial frameb3Warning[examples/Importers/ImportURDFDemo/BulletUrdfImporter.cpp,126]:\n",
      "panda_leftfingerb3Warning[examples/Importers/ImportURDFDemo/BulletUrdfImporter.cpp,126]:\n",
      "No inertial data for link, using mass=1, localinertiadiagonal = 1,1,1, identity local inertial frameb3Warning[examples/Importers/ImportURDFDemo/BulletUrdfImporter.cpp,126]:\n",
      "panda_rightfinger"
     ]
    }
   ],
   "execution_count": 84
  },
  {
   "metadata": {
    "ExecuteTime": {
     "end_time": "2025-05-18T21:19:30.584163Z",
     "start_time": "2025-05-18T21:19:30.338479Z"
    }
   },
   "cell_type": "code",
   "source": [
    "# extract_keyframes.py\n",
    "from pathlib import Path\n",
    "from PIL import Image, ImageSequence\n",
    "\n",
    "SRC_DIR       = Path(\"demo\")          # where your 8 GIFs live\n",
    "DST_DIR       = Path(\"demo\")          # put extracted folders here\n",
    "KEY_IDXS      = [0, 15, 30, 45]       # which frames to keep\n",
    "\n",
    "for gif_path in SRC_DIR.glob(\"*.gif\"):\n",
    "    with Image.open(gif_path) as im:\n",
    "        out_dir = DST_DIR / gif_path.stem           # e.g. gifs/ur5_joint_0\n",
    "        out_dir.mkdir(parents=True, exist_ok=True)\n",
    "\n",
    "        for k in KEY_IDXS:\n",
    "            try:\n",
    "                im.seek(k)                          # jump to frame k\n",
    "            except EOFError:                        # GIF shorter than k\n",
    "                break\n",
    "            frame = im.convert(\"RGB\")               # drop palette\n",
    "            frame.save(out_dir / f\"frame_{k:03d}.png\")\n",
    "\n",
    "        print(f\"✓ {gif_path.name}: saved {len(list(out_dir.glob('*.png')))} frames\")\n"
   ],
   "id": "89c7bc7006c0944e",
   "outputs": [
    {
     "name": "stdout",
     "output_type": "stream",
     "text": [
      "✓ joint_6.gif: saved 4 frames\n",
      "✓ joint_4.gif: saved 4 frames\n",
      "✓ joint_5.gif: saved 4 frames\n",
      "✓ joint_1.gif: saved 4 frames\n",
      "✓ joint_2.gif: saved 4 frames\n",
      "✓ joint_3.gif: saved 4 frames\n",
      "✓ gripper.gif: saved 4 frames\n",
      "✓ moving.gif: saved 4 frames\n"
     ]
    }
   ],
   "execution_count": 87
  }
 ],
 "metadata": {
  "kernelspec": {
   "display_name": "Python 3",
   "language": "python",
   "name": "python3"
  },
  "language_info": {
   "codemirror_mode": {
    "name": "ipython",
    "version": 2
   },
   "file_extension": ".py",
   "mimetype": "text/x-python",
   "name": "python",
   "nbconvert_exporter": "python",
   "pygments_lexer": "ipython2",
   "version": "2.7.6"
  }
 },
 "nbformat": 4,
 "nbformat_minor": 5
}
