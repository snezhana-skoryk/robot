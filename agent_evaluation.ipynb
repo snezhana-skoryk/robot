{
 "cells": [
  {
   "metadata": {},
   "cell_type": "markdown",
   "source": "# Import",
   "id": "a786e4494d799f49"
  },
  {
   "cell_type": "code",
   "id": "initial_id",
   "metadata": {
    "collapsed": true,
    "ExecuteTime": {
     "end_time": "2025-06-20T20:39:18.751508Z",
     "start_time": "2025-06-20T20:39:18.746668Z"
    }
   },
   "source": [
    "from PIL import Image\n",
    "\n",
    "import gymnasium as gym\n",
    "from gymnasium.wrappers import TimeLimit\n",
    "import panda_gym\n",
    "\n",
    "from stable_baselines3 import PPO\n",
    "from stable_baselines3.common.monitor import Monitor\n",
    "from stable_baselines3.common.vec_env import DummyVecEnv, VecFrameStack, VecTransposeImage\n",
    "from stable_baselines3.common.evaluation import evaluate_policy\n",
    "\n",
    "from hcr5_reach_with_gripper_env import HCR5ReachWithGripperEnv"
   ],
   "outputs": [],
   "execution_count": 23
  },
  {
   "metadata": {},
   "cell_type": "markdown",
   "source": "# Constants",
   "id": "46c612a01d84a5a6"
  },
  {
   "metadata": {
    "ExecuteTime": {
     "end_time": "2025-06-20T20:39:19.023716Z",
     "start_time": "2025-06-20T20:39:19.020716Z"
    }
   },
   "cell_type": "code",
   "source": [
    "env_render_options = {\n",
    "    \"render_width\": 480,\n",
    "    \"render_height\": 480,\n",
    "    \"render_target_position\": [-0.2, 0, 0],\n",
    "    \"render_distance\": 1.2,\n",
    "    \"render_yaw\": 90,\n",
    "    \"render_pitch\": -30,\n",
    "    \"render_roll\": 0,\n",
    "}"
   ],
   "id": "574539a0fb764b8d",
   "outputs": [],
   "execution_count": 24
  },
  {
   "metadata": {},
   "cell_type": "markdown",
   "source": "# Envorinment setup",
   "id": "46a715159508e5f8"
  },
  {
   "metadata": {
    "ExecuteTime": {
     "end_time": "2025-06-20T20:39:19.612280Z",
     "start_time": "2025-06-20T20:39:19.608655Z"
    }
   },
   "cell_type": "code",
   "source": [
    "class ObsDictToArray(gym.ObservationWrapper):\n",
    "    \"\"\"Convert a dict obs {'observation': array, ...} into just the array.\"\"\"\n",
    "    def __init__(self, env):\n",
    "        super().__init__(env)\n",
    "        # Replace the observation_space with the sub-space you want:\n",
    "        self.observation_space = self.env.observation_space.spaces[\"observation\"]\n",
    "\n",
    "    def observation(self, obs_dict):\n",
    "        # obs_dict is {'observation': ..., 'achieved_goal': ..., ...}\n",
    "        return obs_dict[\"observation\"]"
   ],
   "id": "b042b0796f255bef",
   "outputs": [],
   "execution_count": 25
  },
  {
   "metadata": {
    "ExecuteTime": {
     "end_time": "2025-06-20T20:39:19.935714Z",
     "start_time": "2025-06-20T20:39:19.933208Z"
    }
   },
   "cell_type": "code",
   "source": [
    "def make_env():\n",
    "    # 1) Base goal-based env, which uses the full dict for reward internally\n",
    "    raw = TimeLimit(HCR5ReachWithGripperEnv(\n",
    "        render_mode=\"rgb_array\",\n",
    "        **env_render_options,\n",
    "        control_type='joints',\n",
    "        reward_type=\"combined\",\n",
    "    ),\n",
    "    max_episode_steps=100)\n",
    "    wrapped = ObsDictToArray(raw)\n",
    "    # 2) Wrap it in a Monitor so info[\"episode\"] = {\"r\": total_reward, \"l\": length}\n",
    "    return Monitor(wrapped)\n"
   ],
   "id": "bf95955e7b4f7c89",
   "outputs": [],
   "execution_count": 26
  },
  {
   "metadata": {
    "ExecuteTime": {
     "end_time": "2025-06-20T20:39:20.377969Z",
     "start_time": "2025-06-20T20:39:20.230238Z"
    }
   },
   "cell_type": "code",
   "source": [
    "def make_vec_env(n_envs=1):\n",
    "    vec_env = DummyVecEnv([make_env for i in range(n_envs)])\n",
    "    vec_env = VecFrameStack(vec_env, n_stack=4)\n",
    "    vec_env = VecTransposeImage(vec_env)\n",
    "    return vec_env\n",
    "\n",
    "vec_env = make_vec_env()\n",
    "vec_env.observation_space"
   ],
   "id": "f56fc49c1ac9446a",
   "outputs": [
    {
     "name": "stdout",
     "output_type": "stream",
     "text": [
      "argv[0]=--background_color_red=0.8745098114013672\n",
      "argv[1]=--background_color_green=0.21176470816135406\n",
      "argv[2]=--background_color_blue=0.1764705926179886\n",
      "b3Warning[examples/Importers/ImportURDFDemo/BulletUrdfImporter.cpp,126]:\n",
      "No inertial data for link, using mass=1, localinertiadiagonal = 1,1,1, identity local inertial frameb3Warning[examples/Importers/ImportURDFDemo/BulletUrdfImporter.cpp,126]:\n",
      "base_linkb3Warning[examples/Importers/ImportURDFDemo/BulletUrdfImporter.cpp,126]:\n",
      "No inertial data for link, using mass=1, localinertiadiagonal = 1,1,1, identity local inertial frameb3Warning[examples/Importers/ImportURDFDemo/BulletUrdfImporter.cpp,126]:\n",
      "baseb3Warning[examples/Importers/ImportURDFDemo/BulletUrdfImporter.cpp,126]:\n",
      "No inertial data for link, using mass=1, localinertiadiagonal = 1,1,1, identity local inertial frameb3Warning[examples/Importers/ImportURDFDemo/BulletUrdfImporter.cpp,126]:\n",
      "flangeb3Warning[examples/Importers/ImportURDFDemo/BulletUrdfImporter.cpp,126]:\n",
      "No inertial data for link, using mass=1, localinertiadiagonal = 1,1,1, identity local inertial frameb3Warning[examples/Importers/ImportURDFDemo/BulletUrdfImporter.cpp,126]:\n",
      "tool0b3Warning[examples/Importers/ImportURDFDemo/BulletUrdfImporter.cpp,126]:\n",
      "No inertial data for link, using mass=1, localinertiadiagonal = 1,1,1, identity local inertial frameb3Warning[examples/Importers/ImportURDFDemo/BulletUrdfImporter.cpp,126]:\n",
      "panda_handb3Warning[examples/Importers/ImportURDFDemo/BulletUrdfImporter.cpp,126]:\n",
      "No inertial data for link, using mass=1, localinertiadiagonal = 1,1,1, identity local inertial frameb3Warning[examples/Importers/ImportURDFDemo/BulletUrdfImporter.cpp,126]:\n",
      "panda_leftfingerb3Warning[examples/Importers/ImportURDFDemo/BulletUrdfImporter.cpp,126]:\n",
      "No inertial data for link, using mass=1, localinertiadiagonal = 1,1,1, identity local inertial frameb3Warning[examples/Importers/ImportURDFDemo/BulletUrdfImporter.cpp,126]:\n",
      "panda_rightfinger"
     ]
    },
    {
     "data": {
      "text/plain": [
       "Box(0, 255, (12, 96, 96), uint8)"
      ]
     },
     "execution_count": 27,
     "metadata": {},
     "output_type": "execute_result"
    }
   ],
   "execution_count": 27
  },
  {
   "metadata": {
    "ExecuteTime": {
     "end_time": "2025-06-20T20:39:20.687096Z",
     "start_time": "2025-06-20T20:39:20.512836Z"
    }
   },
   "cell_type": "code",
   "source": [
    "vec_env = make_vec_env()\n",
    "observation, info = vec_env.envs[0].reset()\n",
    "observation, info = vec_env.envs[0].reset()\n",
    "observation, info = vec_env.envs[0].reset()\n",
    "observation, info = vec_env.envs[0].reset()\n",
    "\n",
    "\n",
    "observation.shape"
   ],
   "id": "7c2c677b4cebc961",
   "outputs": [
    {
     "name": "stdout",
     "output_type": "stream",
     "text": [
      "argv[0]=--background_color_red=0.8745098114013672\n",
      "argv[1]=--background_color_green=0.21176470816135406\n",
      "argv[2]=--background_color_blue=0.1764705926179886\n",
      "b3Warning[examples/Importers/ImportURDFDemo/BulletUrdfImporter.cpp,126]:\n",
      "No inertial data for link, using mass=1, localinertiadiagonal = 1,1,1, identity local inertial frameb3Warning[examples/Importers/ImportURDFDemo/BulletUrdfImporter.cpp,126]:\n",
      "base_linkb3Warning[examples/Importers/ImportURDFDemo/BulletUrdfImporter.cpp,126]:\n",
      "No inertial data for link, using mass=1, localinertiadiagonal = 1,1,1, identity local inertial frameb3Warning[examples/Importers/ImportURDFDemo/BulletUrdfImporter.cpp,126]:\n",
      "baseb3Warning[examples/Importers/ImportURDFDemo/BulletUrdfImporter.cpp,126]:\n",
      "No inertial data for link, using mass=1, localinertiadiagonal = 1,1,1, identity local inertial frameb3Warning[examples/Importers/ImportURDFDemo/BulletUrdfImporter.cpp,126]:\n",
      "flangeb3Warning[examples/Importers/ImportURDFDemo/BulletUrdfImporter.cpp,126]:\n",
      "No inertial data for link, using mass=1, localinertiadiagonal = 1,1,1, identity local inertial frameb3Warning[examples/Importers/ImportURDFDemo/BulletUrdfImporter.cpp,126]:\n",
      "tool0b3Warning[examples/Importers/ImportURDFDemo/BulletUrdfImporter.cpp,126]:\n",
      "No inertial data for link, using mass=1, localinertiadiagonal = 1,1,1, identity local inertial frameb3Warning[examples/Importers/ImportURDFDemo/BulletUrdfImporter.cpp,126]:\n",
      "panda_handb3Warning[examples/Importers/ImportURDFDemo/BulletUrdfImporter.cpp,126]:\n",
      "No inertial data for link, using mass=1, localinertiadiagonal = 1,1,1, identity local inertial frameb3Warning[examples/Importers/ImportURDFDemo/BulletUrdfImporter.cpp,126]:\n",
      "panda_leftfingerb3Warning[examples/Importers/ImportURDFDemo/BulletUrdfImporter.cpp,126]:\n",
      "No inertial data for link, using mass=1, localinertiadiagonal = 1,1,1, identity local inertial frameb3Warning[examples/Importers/ImportURDFDemo/BulletUrdfImporter.cpp,126]:\n",
      "panda_rightfinger"
     ]
    },
    {
     "data": {
      "text/plain": [
       "(96, 96, 3)"
      ]
     },
     "execution_count": 28,
     "metadata": {},
     "output_type": "execute_result"
    }
   ],
   "execution_count": 28
  },
  {
   "metadata": {
    "ExecuteTime": {
     "end_time": "2025-06-20T20:39:22.856146Z",
     "start_time": "2025-06-20T20:39:22.852493Z"
    }
   },
   "cell_type": "code",
   "source": "Image.fromarray(observation)",
   "id": "225c870989a56175",
   "outputs": [
    {
     "data": {
      "text/plain": [
       "<PIL.Image.Image image mode=RGB size=96x96>"
      ],
      "image/png": "[encoded data removed]",
      "image/jpeg": "[encoded data removed]"
     },
     "execution_count": 29,
     "metadata": {},
     "output_type": "execute_result"
    }
   ],
   "execution_count": 29
  },
  {
   "metadata": {
    "ExecuteTime": {
     "end_time": "2025-06-20T20:39:23.236516Z",
     "start_time": "2025-06-20T20:39:23.179412Z"
    }
   },
   "cell_type": "code",
   "source": [
    "observation = vec_env.reset()\n",
    "observation = vec_env.reset()\n",
    "observation = vec_env.reset()\n",
    "observation = vec_env.reset()\n",
    "\n",
    "observation.shape"
   ],
   "id": "3551ca34912aee6b",
   "outputs": [
    {
     "data": {
      "text/plain": [
       "(1, 12, 96, 96)"
      ]
     },
     "execution_count": 30,
     "metadata": {},
     "output_type": "execute_result"
    }
   ],
   "execution_count": 30
  },
  {
   "metadata": {
    "ExecuteTime": {
     "end_time": "2025-06-20T20:39:23.383395Z",
     "start_time": "2025-06-20T20:39:23.380278Z"
    }
   },
   "cell_type": "code",
   "source": "Image.fromarray(observation[0][9:].transpose(1, 2, 0))",
   "id": "10f621fefa98189",
   "outputs": [
    {
     "data": {
      "text/plain": [
       "<PIL.Image.Image image mode=RGB size=96x96>"
      ],
      "image/png": "[encoded data removed]",
      "image/jpeg": "[encoded data removed]"
     },
     "execution_count": 31,
     "metadata": {},
     "output_type": "execute_result"
    }
   ],
   "execution_count": 31
  },
  {
   "metadata": {
    "ExecuteTime": {
     "end_time": "2025-06-20T20:39:23.589179Z",
     "start_time": "2025-06-20T20:39:23.586392Z"
    }
   },
   "cell_type": "code",
   "source": "Image.fromarray(observation[0][6:9].transpose(1, 2, 0))",
   "id": "963892d8b9ca31cb",
   "outputs": [
    {
     "data": {
      "text/plain": [
       "<PIL.Image.Image image mode=RGB size=96x96>"
      ],
      "image/png": "[encoded data removed]",
      "image/jpeg": "[encoded data removed]"
     },
     "execution_count": 32,
     "metadata": {},
     "output_type": "execute_result"
    }
   ],
   "execution_count": 32
  },
  {
   "metadata": {},
   "cell_type": "markdown",
   "source": "# New Agent",
   "id": "8b5c86123bcdc3f2"
  },
  {
   "metadata": {},
   "cell_type": "markdown",
   "source": "## Model Evaluation",
   "id": "db518bb48042c714"
  },
  {
   "metadata": {
    "ExecuteTime": {
     "end_time": "2025-06-16T12:46:01.944491Z",
     "start_time": "2025-06-16T12:46:01.157301Z"
    }
   },
   "cell_type": "code",
   "source": [
    "model = PPO.load(\"agent_old.zip\")\n",
    "model.policy"
   ],
   "id": "ff366ac581b03e35",
   "outputs": [
    {
     "data": {
      "text/plain": [
       "ActorCriticCnnPolicy(\n",
       "  (features_extractor): NatureCNN(\n",
       "    (cnn): Sequential(\n",
       "      (0): Conv2d(12, 32, kernel_size=(8, 8), stride=(4, 4))\n",
       "      (1): ReLU()\n",
       "      (2): Conv2d(32, 64, kernel_size=(4, 4), stride=(2, 2))\n",
       "      (3): ReLU()\n",
       "      (4): Conv2d(64, 64, kernel_size=(3, 3), stride=(1, 1))\n",
       "      (5): ReLU()\n",
       "      (6): Flatten(start_dim=1, end_dim=-1)\n",
       "    )\n",
       "    (linear): Sequential(\n",
       "      (0): Linear(in_features=4096, out_features=512, bias=True)\n",
       "      (1): ReLU()\n",
       "    )\n",
       "  )\n",
       "  (pi_features_extractor): NatureCNN(\n",
       "    (cnn): Sequential(\n",
       "      (0): Conv2d(12, 32, kernel_size=(8, 8), stride=(4, 4))\n",
       "      (1): ReLU()\n",
       "      (2): Conv2d(32, 64, kernel_size=(4, 4), stride=(2, 2))\n",
       "      (3): ReLU()\n",
       "      (4): Conv2d(64, 64, kernel_size=(3, 3), stride=(1, 1))\n",
       "      (5): ReLU()\n",
       "      (6): Flatten(start_dim=1, end_dim=-1)\n",
       "    )\n",
       "    (linear): Sequential(\n",
       "      (0): Linear(in_features=4096, out_features=512, bias=True)\n",
       "      (1): ReLU()\n",
       "    )\n",
       "  )\n",
       "  (vf_features_extractor): NatureCNN(\n",
       "    (cnn): Sequential(\n",
       "      (0): Conv2d(12, 32, kernel_size=(8, 8), stride=(4, 4))\n",
       "      (1): ReLU()\n",
       "      (2): Conv2d(32, 64, kernel_size=(4, 4), stride=(2, 2))\n",
       "      (3): ReLU()\n",
       "      (4): Conv2d(64, 64, kernel_size=(3, 3), stride=(1, 1))\n",
       "      (5): ReLU()\n",
       "      (6): Flatten(start_dim=1, end_dim=-1)\n",
       "    )\n",
       "    (linear): Sequential(\n",
       "      (0): Linear(in_features=4096, out_features=512, bias=True)\n",
       "      (1): ReLU()\n",
       "    )\n",
       "  )\n",
       "  (mlp_extractor): MlpExtractor(\n",
       "    (policy_net): Sequential()\n",
       "    (value_net): Sequential()\n",
       "  )\n",
       "  (action_net): Linear(in_features=512, out_features=7, bias=True)\n",
       "  (value_net): Linear(in_features=512, out_features=1, bias=True)\n",
       ")"
      ]
     },
     "execution_count": 11,
     "metadata": {},
     "output_type": "execute_result"
    }
   ],
   "execution_count": 11
  },
  {
   "metadata": {
    "ExecuteTime": {
     "end_time": "2025-06-16T12:46:01.952435Z",
     "start_time": "2025-06-16T12:46:01.950628Z"
    }
   },
   "cell_type": "code",
   "source": [
    "total_all = sum(p.numel() for p in model.policy.parameters())\n",
    "trainable_all = sum(p.numel() for p in model.policy.parameters() if p.requires_grad)\n",
    "print(f\"All params: {total_all:,}, Trainable: {trainable_all:,}\")"
   ],
   "id": "f7ea246813cf15a6",
   "outputs": [
    {
     "name": "stdout",
     "output_type": "stream",
     "text": [
      "All params: 2,196,143, Trainable: 2,196,143\n"
     ]
    }
   ],
   "execution_count": 12
  },
  {
   "metadata": {
    "ExecuteTime": {
     "end_time": "2025-06-16T12:46:17.592934Z",
     "start_time": "2025-06-16T12:46:01.961265Z"
    }
   },
   "cell_type": "code",
   "source": [
    "vec_env = make_vec_env()\n",
    "mean_reward, std_reward = evaluate_policy(\n",
    "    model,\n",
    "    vec_env,\n",
    "    n_eval_episodes=100,\n",
    "    deterministic=False,\n",
    "    render=False,\n",
    ")\n",
    "\n",
    "print(f\"Mean reward over 20 episodes: {mean_reward:.2f} ± {std_reward:.2f}\")"
   ],
   "id": "9975d3edcbd0e877",
   "outputs": [
    {
     "name": "stdout",
     "output_type": "stream",
     "text": [
      "argv[0]=--background_color_red=0.8745098114013672\n",
      "argv[1]=--background_color_green=0.21176470816135406\n",
      "argv[2]=--background_color_blue=0.1764705926179886\n",
      "b3Warning[examples/Importers/ImportURDFDemo/BulletUrdfImporter.cpp,126]:\n",
      "No inertial data for link, using mass=1, localinertiadiagonal = 1,1,1, identity local inertial frameb3Warning[examples/Importers/ImportURDFDemo/BulletUrdfImporter.cpp,126]:\n",
      "base_linkb3Warning[examples/Importers/ImportURDFDemo/BulletUrdfImporter.cpp,126]:\n",
      "No inertial data for link, using mass=1, localinertiadiagonal = 1,1,1, identity local inertial frameb3Warning[examples/Importers/ImportURDFDemo/BulletUrdfImporter.cpp,126]:\n",
      "baseb3Warning[examples/Importers/ImportURDFDemo/BulletUrdfImporter.cpp,126]:\n",
      "No inertial data for link, using mass=1, localinertiadiagonal = 1,1,1, identity local inertial frameb3Warning[examples/Importers/ImportURDFDemo/BulletUrdfImporter.cpp,126]:\n",
      "flangeb3Warning[examples/Importers/ImportURDFDemo/BulletUrdfImporter.cpp,126]:\n",
      "No inertial data for link, using mass=1, localinertiadiagonal = 1,1,1, identity local inertial frameb3Warning[examples/Importers/ImportURDFDemo/BulletUrdfImporter.cpp,126]:\n",
      "tool0b3Warning[examples/Importers/ImportURDFDemo/BulletUrdfImporter.cpp,126]:\n",
      "No inertial data for link, using mass=1, localinertiadiagonal = 1,1,1, identity local inertial frameb3Warning[examples/Importers/ImportURDFDemo/BulletUrdfImporter.cpp,126]:\n",
      "panda_handb3Warning[examples/Importers/ImportURDFDemo/BulletUrdfImporter.cpp,126]:\n",
      "No inertial data for link, using mass=1, localinertiadiagonal = 1,1,1, identity local inertial frameb3Warning[examples/Importers/ImportURDFDemo/BulletUrdfImporter.cpp,126]:\n",
      "panda_leftfingerb3Warning[examples/Importers/ImportURDFDemo/BulletUrdfImporter.cpp,126]:\n",
      "No inertial data for link, using mass=1, localinertiadiagonal = 1,1,1, identity local inertial frameb3Warning[examples/Importers/ImportURDFDemo/BulletUrdfImporter.cpp,126]:\n",
      "panda_rightfingerMean reward over 20 episodes: 96.42 ± 12.06\n"
     ]
    }
   ],
   "execution_count": 13
  },
  {
   "metadata": {
    "ExecuteTime": {
     "end_time": "2025-06-16T12:46:30.514117Z",
     "start_time": "2025-06-16T12:46:17.614007Z"
    }
   },
   "cell_type": "code",
   "source": [
    "vec_env = make_vec_env()\n",
    "mean_reward, std_reward = evaluate_policy(\n",
    "    model,\n",
    "    vec_env,\n",
    "    n_eval_episodes=100,\n",
    "    deterministic=True,\n",
    "    render=False,\n",
    ")\n",
    "\n",
    "print(f\"Mean reward over 20 episodes: {mean_reward:.2f} ± {std_reward:.2f}\")"
   ],
   "id": "581bcd08b38b9ad",
   "outputs": [
    {
     "name": "stdout",
     "output_type": "stream",
     "text": [
      "argv[0]=--background_color_red=0.8745098114013672\n",
      "argv[1]=--background_color_green=0.21176470816135406\n",
      "argv[2]=--background_color_blue=0.1764705926179886\n",
      "b3Warning[examples/Importers/ImportURDFDemo/BulletUrdfImporter.cpp,126]:\n",
      "No inertial data for link, using mass=1, localinertiadiagonal = 1,1,1, identity local inertial frameb3Warning[examples/Importers/ImportURDFDemo/BulletUrdfImporter.cpp,126]:\n",
      "base_linkb3Warning[examples/Importers/ImportURDFDemo/BulletUrdfImporter.cpp,126]:\n",
      "No inertial data for link, using mass=1, localinertiadiagonal = 1,1,1, identity local inertial frameb3Warning[examples/Importers/ImportURDFDemo/BulletUrdfImporter.cpp,126]:\n",
      "baseb3Warning[examples/Importers/ImportURDFDemo/BulletUrdfImporter.cpp,126]:\n",
      "No inertial data for link, using mass=1, localinertiadiagonal = 1,1,1, identity local inertial frameb3Warning[examples/Importers/ImportURDFDemo/BulletUrdfImporter.cpp,126]:\n",
      "flangeb3Warning[examples/Importers/ImportURDFDemo/BulletUrdfImporter.cpp,126]:\n",
      "No inertial data for link, using mass=1, localinertiadiagonal = 1,1,1, identity local inertial frameb3Warning[examples/Importers/ImportURDFDemo/BulletUrdfImporter.cpp,126]:\n",
      "tool0b3Warning[examples/Importers/ImportURDFDemo/BulletUrdfImporter.cpp,126]:\n",
      "No inertial data for link, using mass=1, localinertiadiagonal = 1,1,1, identity local inertial frameb3Warning[examples/Importers/ImportURDFDemo/BulletUrdfImporter.cpp,126]:\n",
      "panda_handb3Warning[examples/Importers/ImportURDFDemo/BulletUrdfImporter.cpp,126]:\n",
      "No inertial data for link, using mass=1, localinertiadiagonal = 1,1,1, identity local inertial frameb3Warning[examples/Importers/ImportURDFDemo/BulletUrdfImporter.cpp,126]:\n",
      "panda_leftfingerb3Warning[examples/Importers/ImportURDFDemo/BulletUrdfImporter.cpp,126]:\n",
      "No inertial data for link, using mass=1, localinertiadiagonal = 1,1,1, identity local inertial frameb3Warning[examples/Importers/ImportURDFDemo/BulletUrdfImporter.cpp,126]:\n",
      "panda_rightfingerMean reward over 20 episodes: 96.84 ± 12.45\n"
     ]
    }
   ],
   "execution_count": 14
  },
  {
   "metadata": {},
   "cell_type": "markdown",
   "source": "## Demo",
   "id": "cc91baa1a946b01e"
  },
  {
   "metadata": {
    "ExecuteTime": {
     "end_time": "2025-06-16T12:56:36.157473Z",
     "start_time": "2025-06-16T12:56:32.148718Z"
    }
   },
   "cell_type": "code",
   "source": [
    "env = make_vec_env()\n",
    "observation = env.reset()\n",
    "images = 5 * [env.render()]\n",
    "for _ in range(50):\n",
    "    action = model.predict(observation, deterministic=True)[0]\n",
    "    observation, reward, done, info = env.step(action)\n",
    "    images.append(env.render())\n",
    "\n",
    "    if done:\n",
    "        for i in range(5):\n",
    "            images.append(env.render())\n",
    "\n",
    "frames = [Image.fromarray(img) for img in images]\n",
    "frames[0].save(\n",
    "    f\"demo_agent/agent_old.gif\",\n",
    "    save_all=True, append_images=frames[1:],\n",
    "    duration=150, loop=0,\n",
    ")"
   ],
   "id": "a9344671c64e6cbf",
   "outputs": [
    {
     "name": "stdout",
     "output_type": "stream",
     "text": [
      "argv[0]=--background_color_red=0.8745098114013672\n",
      "argv[1]=--background_color_green=0.21176470816135406\n",
      "argv[2]=--background_color_blue=0.1764705926179886\n",
      "b3Warning[examples/Importers/ImportURDFDemo/BulletUrdfImporter.cpp,126]:\n",
      "No inertial data for link, using mass=1, localinertiadiagonal = 1,1,1, identity local inertial frameb3Warning[examples/Importers/ImportURDFDemo/BulletUrdfImporter.cpp,126]:\n",
      "base_linkb3Warning[examples/Importers/ImportURDFDemo/BulletUrdfImporter.cpp,126]:\n",
      "No inertial data for link, using mass=1, localinertiadiagonal = 1,1,1, identity local inertial frameb3Warning[examples/Importers/ImportURDFDemo/BulletUrdfImporter.cpp,126]:\n",
      "baseb3Warning[examples/Importers/ImportURDFDemo/BulletUrdfImporter.cpp,126]:\n",
      "No inertial data for link, using mass=1, localinertiadiagonal = 1,1,1, identity local inertial frameb3Warning[examples/Importers/ImportURDFDemo/BulletUrdfImporter.cpp,126]:\n",
      "flangeb3Warning[examples/Importers/ImportURDFDemo/BulletUrdfImporter.cpp,126]:\n",
      "No inertial data for link, using mass=1, localinertiadiagonal = 1,1,1, identity local inertial frameb3Warning[examples/Importers/ImportURDFDemo/BulletUrdfImporter.cpp,126]:\n",
      "tool0b3Warning[examples/Importers/ImportURDFDemo/BulletUrdfImporter.cpp,126]:\n",
      "No inertial data for link, using mass=1, localinertiadiagonal = 1,1,1, identity local inertial frameb3Warning[examples/Importers/ImportURDFDemo/BulletUrdfImporter.cpp,126]:\n",
      "panda_handb3Warning[examples/Importers/ImportURDFDemo/BulletUrdfImporter.cpp,126]:\n",
      "No inertial data for link, using mass=1, localinertiadiagonal = 1,1,1, identity local inertial frameb3Warning[examples/Importers/ImportURDFDemo/BulletUrdfImporter.cpp,126]:\n",
      "panda_leftfingerb3Warning[examples/Importers/ImportURDFDemo/BulletUrdfImporter.cpp,126]:\n",
      "No inertial data for link, using mass=1, localinertiadiagonal = 1,1,1, identity local inertial frameb3Warning[examples/Importers/ImportURDFDemo/BulletUrdfImporter.cpp,126]:\n",
      "panda_rightfinger"
     ]
    }
   ],
   "execution_count": 22
  },
  {
   "metadata": {
    "ExecuteTime": {
     "end_time": "2025-06-16T20:11:53.925116Z",
     "start_time": "2025-06-16T20:11:50.929702Z"
    }
   },
   "cell_type": "code",
   "source": [
    "env = make_vec_env()\n",
    "observation = env.reset()\n",
    "images = 5 * [env.render()]\n",
    "for _ in range(50):\n",
    "    action = env.action_space.sample()\n",
    "    observation, reward, done, info = env.step(action)\n",
    "    images.append(env.render())\n",
    "\n",
    "    if done:\n",
    "        for i in range(5):\n",
    "            images.append(env.render())\n",
    "\n",
    "frames = [Image.fromarray(img) for img in images]\n",
    "frames[0].save(\n",
    "    f\"demo_agent/random.gif\",\n",
    "    save_all=True, append_images=frames[1:],\n",
    "    duration=150, loop=0,\n",
    ")"
   ],
   "id": "277ab014f95930aa",
   "outputs": [
    {
     "name": "stdout",
     "output_type": "stream",
     "text": [
      "argv[0]=--background_color_red=0.8745098114013672\n",
      "argv[1]=--background_color_green=0.21176470816135406\n",
      "argv[2]=--background_color_blue=0.1764705926179886\n",
      "b3Warning[examples/Importers/ImportURDFDemo/BulletUrdfImporter.cpp,126]:\n",
      "No inertial data for link, using mass=1, localinertiadiagonal = 1,1,1, identity local inertial frameb3Warning[examples/Importers/ImportURDFDemo/BulletUrdfImporter.cpp,126]:\n",
      "base_linkb3Warning[examples/Importers/ImportURDFDemo/BulletUrdfImporter.cpp,126]:\n",
      "No inertial data for link, using mass=1, localinertiadiagonal = 1,1,1, identity local inertial frameb3Warning[examples/Importers/ImportURDFDemo/BulletUrdfImporter.cpp,126]:\n",
      "baseb3Warning[examples/Importers/ImportURDFDemo/BulletUrdfImporter.cpp,126]:\n",
      "No inertial data for link, using mass=1, localinertiadiagonal = 1,1,1, identity local inertial frameb3Warning[examples/Importers/ImportURDFDemo/BulletUrdfImporter.cpp,126]:\n",
      "flangeb3Warning[examples/Importers/ImportURDFDemo/BulletUrdfImporter.cpp,126]:\n",
      "No inertial data for link, using mass=1, localinertiadiagonal = 1,1,1, identity local inertial frameb3Warning[examples/Importers/ImportURDFDemo/BulletUrdfImporter.cpp,126]:\n",
      "tool0b3Warning[examples/Importers/ImportURDFDemo/BulletUrdfImporter.cpp,126]:\n",
      "No inertial data for link, using mass=1, localinertiadiagonal = 1,1,1, identity local inertial frameb3Warning[examples/Importers/ImportURDFDemo/BulletUrdfImporter.cpp,126]:\n",
      "panda_handb3Warning[examples/Importers/ImportURDFDemo/BulletUrdfImporter.cpp,126]:\n",
      "No inertial data for link, using mass=1, localinertiadiagonal = 1,1,1, identity local inertial frameb3Warning[examples/Importers/ImportURDFDemo/BulletUrdfImporter.cpp,126]:\n",
      "panda_leftfingerb3Warning[examples/Importers/ImportURDFDemo/BulletUrdfImporter.cpp,126]:\n",
      "No inertial data for link, using mass=1, localinertiadiagonal = 1,1,1, identity local inertial frameb3Warning[examples/Importers/ImportURDFDemo/BulletUrdfImporter.cpp,126]:\n",
      "panda_rightfinger"
     ]
    }
   ],
   "execution_count": 29
  },
  {
   "metadata": {
    "ExecuteTime": {
     "end_time": "2025-06-16T20:11:54.044707Z",
     "start_time": "2025-06-16T20:11:53.975250Z"
    }
   },
   "cell_type": "code",
   "source": [
    "gif_path   = f\"demo_agent/agent_random.gif\"  # ваша гіфка\n",
    "frame_ids  = [0, 15, 30, 45]       # які кадри витягнути (нумерація з нуля)\n",
    "out_format = \"demo_agent/random_frame_{:02d}.png\"   # шаблон імен файлів\n",
    "\n",
    "with Image.open(gif_path) as gif:\n",
    "    # GIF — це \"seek-able\" об’єкт; кількість кадрів:\n",
    "    n_frames = gif.n_frames\n",
    "\n",
    "    for idx in frame_ids:\n",
    "        gif.seek(idx)                  # перейти до потрібного кадру\n",
    "        frame = gif.convert(\"RGBA\")    # безпечне перетворення у звичайне зображення\n",
    "        frame.save(out_format.format(idx))\n",
    "        print(f\"✅  Збережено {out_format.format(idx)}\")"
   ],
   "id": "85651a1676f87f74",
   "outputs": [
    {
     "name": "stdout",
     "output_type": "stream",
     "text": [
      "✅  Збережено demo_training/random_frame_00.png\n",
      "✅  Збережено demo_training/random_frame_15.png\n",
      "✅  Збережено demo_training/random_frame_30.png\n",
      "✅  Збережено demo_training/random_frame_45.png\n"
     ]
    }
   ],
   "execution_count": 30
  },
  {
   "metadata": {
    "ExecuteTime": {
     "end_time": "2025-06-16T22:11:06.360219Z",
     "start_time": "2025-06-16T22:11:06.318173Z"
    }
   },
   "cell_type": "code",
   "source": [
    "gif_path   = f\"demo_agent/agent_old.gif\"  # ваша гіфка\n",
    "frame_ids  = [1, 3, 6, 9]       # які кадри витягнути (нумерація з нуля)\n",
    "out_format = \"demo_agent/agent_old_episode_1_frame_{:02d}.png\"   # шаблон імен файлів\n",
    "\n",
    "with Image.open(gif_path) as gif:\n",
    "    # GIF — це \"seek-able\" об’єкт; кількість кадрів:\n",
    "    n_frames = gif.n_frames\n",
    "\n",
    "    for idx in frame_ids:\n",
    "        gif.seek(idx-1)                  # перейти до потрібного кадру\n",
    "        frame = gif.convert(\"RGBA\")    # безпечне перетворення у звичайне зображення\n",
    "        frame.save(out_format.format(idx))\n",
    "        print(f\"✅  Збережено {out_format.format(idx)}\")"
   ],
   "id": "4818043490f098c6",
   "outputs": [
    {
     "name": "stdout",
     "output_type": "stream",
     "text": [
      "✅  Збережено demo_agent/agent_old_episode_1_frame_01.png\n",
      "✅  Збережено demo_agent/agent_old_episode_1_frame_03.png\n",
      "✅  Збережено demo_agent/agent_old_episode_1_frame_06.png\n",
      "✅  Збережено demo_agent/agent_old_episode_1_frame_09.png\n"
     ]
    }
   ],
   "execution_count": 44
  },
  {
   "metadata": {},
   "cell_type": "markdown",
   "source": "# New Agent",
   "id": "3a4a43588090c4fe"
  },
  {
   "metadata": {
    "ExecuteTime": {
     "end_time": "2025-06-20T20:39:38.327706Z",
     "start_time": "2025-06-20T20:39:37.563965Z"
    }
   },
   "cell_type": "code",
   "source": [
    "model = PPO.load(\"agent_new.zip\")\n",
    "model.policy"
   ],
   "id": "84fa2cd4290f6bfc",
   "outputs": [
    {
     "data": {
      "text/plain": [
       "ActorCriticCnnPolicy(\n",
       "  (features_extractor): NatureCNN(\n",
       "    (cnn): Sequential(\n",
       "      (0): Conv2d(12, 32, kernel_size=(8, 8), stride=(4, 4))\n",
       "      (1): ReLU()\n",
       "      (2): Conv2d(32, 64, kernel_size=(4, 4), stride=(2, 2))\n",
       "      (3): ReLU()\n",
       "      (4): Conv2d(64, 64, kernel_size=(3, 3), stride=(1, 1))\n",
       "      (5): ReLU()\n",
       "      (6): Flatten(start_dim=1, end_dim=-1)\n",
       "    )\n",
       "    (linear): Sequential(\n",
       "      (0): Linear(in_features=4096, out_features=512, bias=True)\n",
       "      (1): ReLU()\n",
       "    )\n",
       "  )\n",
       "  (pi_features_extractor): NatureCNN(\n",
       "    (cnn): Sequential(\n",
       "      (0): Conv2d(12, 32, kernel_size=(8, 8), stride=(4, 4))\n",
       "      (1): ReLU()\n",
       "      (2): Conv2d(32, 64, kernel_size=(4, 4), stride=(2, 2))\n",
       "      (3): ReLU()\n",
       "      (4): Conv2d(64, 64, kernel_size=(3, 3), stride=(1, 1))\n",
       "      (5): ReLU()\n",
       "      (6): Flatten(start_dim=1, end_dim=-1)\n",
       "    )\n",
       "    (linear): Sequential(\n",
       "      (0): Linear(in_features=4096, out_features=512, bias=True)\n",
       "      (1): ReLU()\n",
       "    )\n",
       "  )\n",
       "  (vf_features_extractor): NatureCNN(\n",
       "    (cnn): Sequential(\n",
       "      (0): Conv2d(12, 32, kernel_size=(8, 8), stride=(4, 4))\n",
       "      (1): ReLU()\n",
       "      (2): Conv2d(32, 64, kernel_size=(4, 4), stride=(2, 2))\n",
       "      (3): ReLU()\n",
       "      (4): Conv2d(64, 64, kernel_size=(3, 3), stride=(1, 1))\n",
       "      (5): ReLU()\n",
       "      (6): Flatten(start_dim=1, end_dim=-1)\n",
       "    )\n",
       "    (linear): Sequential(\n",
       "      (0): Linear(in_features=4096, out_features=512, bias=True)\n",
       "      (1): ReLU()\n",
       "    )\n",
       "  )\n",
       "  (mlp_extractor): MlpExtractor(\n",
       "    (policy_net): Sequential()\n",
       "    (value_net): Sequential()\n",
       "  )\n",
       "  (action_net): Linear(in_features=512, out_features=7, bias=True)\n",
       "  (value_net): Linear(in_features=512, out_features=1, bias=True)\n",
       ")"
      ]
     },
     "execution_count": 33,
     "metadata": {},
     "output_type": "execute_result"
    }
   ],
   "execution_count": 33
  },
  {
   "metadata": {
    "ExecuteTime": {
     "end_time": "2025-06-18T07:06:39.628598Z",
     "start_time": "2025-06-18T07:06:01.692265Z"
    }
   },
   "cell_type": "code",
   "source": [
    "vec_env = make_vec_env()\n",
    "mean_reward, std_reward = evaluate_policy(\n",
    "    model,\n",
    "    vec_env,\n",
    "    n_eval_episodes=100,\n",
    "    deterministic=False,\n",
    "    render=False,\n",
    ")\n",
    "\n",
    "print(f\"Mean reward over 20 episodes: {mean_reward:.2f} ± {std_reward:.2f}\")"
   ],
   "id": "e91494adee057c71",
   "outputs": [
    {
     "name": "stdout",
     "output_type": "stream",
     "text": [
      "argv[0]=--background_color_red=0.8745098114013672\n",
      "argv[1]=--background_color_green=0.21176470816135406\n",
      "argv[2]=--background_color_blue=0.1764705926179886\n",
      "b3Warning[examples/Importers/ImportURDFDemo/BulletUrdfImporter.cpp,126]:\n",
      "No inertial data for link, using mass=1, localinertiadiagonal = 1,1,1, identity local inertial frameb3Warning[examples/Importers/ImportURDFDemo/BulletUrdfImporter.cpp,126]:\n",
      "base_linkb3Warning[examples/Importers/ImportURDFDemo/BulletUrdfImporter.cpp,126]:\n",
      "No inertial data for link, using mass=1, localinertiadiagonal = 1,1,1, identity local inertial frameb3Warning[examples/Importers/ImportURDFDemo/BulletUrdfImporter.cpp,126]:\n",
      "baseb3Warning[examples/Importers/ImportURDFDemo/BulletUrdfImporter.cpp,126]:\n",
      "No inertial data for link, using mass=1, localinertiadiagonal = 1,1,1, identity local inertial frameb3Warning[examples/Importers/ImportURDFDemo/BulletUrdfImporter.cpp,126]:\n",
      "flangeb3Warning[examples/Importers/ImportURDFDemo/BulletUrdfImporter.cpp,126]:\n",
      "No inertial data for link, using mass=1, localinertiadiagonal = 1,1,1, identity local inertial frameb3Warning[examples/Importers/ImportURDFDemo/BulletUrdfImporter.cpp,126]:\n",
      "tool0b3Warning[examples/Importers/ImportURDFDemo/BulletUrdfImporter.cpp,126]:\n",
      "No inertial data for link, using mass=1, localinertiadiagonal = 1,1,1, identity local inertial frameb3Warning[examples/Importers/ImportURDFDemo/BulletUrdfImporter.cpp,126]:\n",
      "panda_handb3Warning[examples/Importers/ImportURDFDemo/BulletUrdfImporter.cpp,126]:\n",
      "No inertial data for link, using mass=1, localinertiadiagonal = 1,1,1, identity local inertial frameb3Warning[examples/Importers/ImportURDFDemo/BulletUrdfImporter.cpp,126]:\n",
      "panda_leftfingerb3Warning[examples/Importers/ImportURDFDemo/BulletUrdfImporter.cpp,126]:\n",
      "No inertial data for link, using mass=1, localinertiadiagonal = 1,1,1, identity local inertial frameb3Warning[examples/Importers/ImportURDFDemo/BulletUrdfImporter.cpp,126]:\n",
      "panda_rightfingerMean reward over 20 episodes: 78.49 ± 42.81\n"
     ]
    }
   ],
   "execution_count": 43
  },
  {
   "metadata": {
    "ExecuteTime": {
     "end_time": "2025-06-18T07:07:41.809237Z",
     "start_time": "2025-06-18T07:06:39.637225Z"
    }
   },
   "cell_type": "code",
   "source": [
    "vec_env = make_vec_env()\n",
    "mean_reward, std_reward = evaluate_policy(\n",
    "    model,\n",
    "    vec_env,\n",
    "    n_eval_episodes=100,\n",
    "    deterministic=True,\n",
    "    render=False,\n",
    ")\n",
    "\n",
    "print(f\"Mean reward over 20 episodes: {mean_reward:.2f} ± {std_reward:.2f}\")"
   ],
   "id": "fb470eef94ae5ae3",
   "outputs": [
    {
     "name": "stdout",
     "output_type": "stream",
     "text": [
      "argv[0]=--background_color_red=0.8745098114013672\n",
      "argv[1]=--background_color_green=0.21176470816135406\n",
      "argv[2]=--background_color_blue=0.1764705926179886\n",
      "b3Warning[examples/Importers/ImportURDFDemo/BulletUrdfImporter.cpp,126]:\n",
      "No inertial data for link, using mass=1, localinertiadiagonal = 1,1,1, identity local inertial frameb3Warning[examples/Importers/ImportURDFDemo/BulletUrdfImporter.cpp,126]:\n",
      "base_linkb3Warning[examples/Importers/ImportURDFDemo/BulletUrdfImporter.cpp,126]:\n",
      "No inertial data for link, using mass=1, localinertiadiagonal = 1,1,1, identity local inertial frameb3Warning[examples/Importers/ImportURDFDemo/BulletUrdfImporter.cpp,126]:\n",
      "baseb3Warning[examples/Importers/ImportURDFDemo/BulletUrdfImporter.cpp,126]:\n",
      "No inertial data for link, using mass=1, localinertiadiagonal = 1,1,1, identity local inertial frameb3Warning[examples/Importers/ImportURDFDemo/BulletUrdfImporter.cpp,126]:\n",
      "flangeb3Warning[examples/Importers/ImportURDFDemo/BulletUrdfImporter.cpp,126]:\n",
      "No inertial data for link, using mass=1, localinertiadiagonal = 1,1,1, identity local inertial frameb3Warning[examples/Importers/ImportURDFDemo/BulletUrdfImporter.cpp,126]:\n",
      "tool0b3Warning[examples/Importers/ImportURDFDemo/BulletUrdfImporter.cpp,126]:\n",
      "No inertial data for link, using mass=1, localinertiadiagonal = 1,1,1, identity local inertial frameb3Warning[examples/Importers/ImportURDFDemo/BulletUrdfImporter.cpp,126]:\n",
      "panda_handb3Warning[examples/Importers/ImportURDFDemo/BulletUrdfImporter.cpp,126]:\n",
      "No inertial data for link, using mass=1, localinertiadiagonal = 1,1,1, identity local inertial frameb3Warning[examples/Importers/ImportURDFDemo/BulletUrdfImporter.cpp,126]:\n",
      "panda_leftfingerb3Warning[examples/Importers/ImportURDFDemo/BulletUrdfImporter.cpp,126]:\n",
      "No inertial data for link, using mass=1, localinertiadiagonal = 1,1,1, identity local inertial frameb3Warning[examples/Importers/ImportURDFDemo/BulletUrdfImporter.cpp,126]:\n",
      "panda_rightfingerMean reward over 20 episodes: 52.06 ± 56.05\n"
     ]
    }
   ],
   "execution_count": 44
  },
  {
   "metadata": {
    "ExecuteTime": {
     "end_time": "2025-06-17T19:26:32.544802Z",
     "start_time": "2025-06-17T19:26:26.051915Z"
    }
   },
   "cell_type": "code",
   "source": [
    "env = make_vec_env()\n",
    "observation = env.reset()\n",
    "images = 5 * [env.render()]\n",
    "for _ in range(100):\n",
    "    action = model.predict(observation, deterministic=False)[0]\n",
    "    observation, reward, done, info = env.step(action)\n",
    "    images.append(env.render())\n",
    "\n",
    "    if done:\n",
    "        for i in range(5):\n",
    "            images.append(env.render())\n",
    "\n",
    "frames = [Image.fromarray(img) for img in images]\n",
    "frames[0].save(\n",
    "    f\"demo_agent/agent_new_new_new.gif\",\n",
    "    save_all=True, append_images=frames[1:],\n",
    "    duration=150, loop=0,\n",
    ")"
   ],
   "id": "f3a2ccf353f62f7b",
   "outputs": [
    {
     "name": "stdout",
     "output_type": "stream",
     "text": [
      "argv[0]=--background_color_red=0.8745098114013672\n",
      "argv[1]=--background_color_green=0.21176470816135406\n",
      "argv[2]=--background_color_blue=0.1764705926179886\n",
      "b3Warning[examples/Importers/ImportURDFDemo/BulletUrdfImporter.cpp,126]:\n",
      "No inertial data for link, using mass=1, localinertiadiagonal = 1,1,1, identity local inertial frameb3Warning[examples/Importers/ImportURDFDemo/BulletUrdfImporter.cpp,126]:\n",
      "base_linkb3Warning[examples/Importers/ImportURDFDemo/BulletUrdfImporter.cpp,126]:\n",
      "No inertial data for link, using mass=1, localinertiadiagonal = 1,1,1, identity local inertial frameb3Warning[examples/Importers/ImportURDFDemo/BulletUrdfImporter.cpp,126]:\n",
      "baseb3Warning[examples/Importers/ImportURDFDemo/BulletUrdfImporter.cpp,126]:\n",
      "No inertial data for link, using mass=1, localinertiadiagonal = 1,1,1, identity local inertial frameb3Warning[examples/Importers/ImportURDFDemo/BulletUrdfImporter.cpp,126]:\n",
      "flangeb3Warning[examples/Importers/ImportURDFDemo/BulletUrdfImporter.cpp,126]:\n",
      "No inertial data for link, using mass=1, localinertiadiagonal = 1,1,1, identity local inertial frameb3Warning[examples/Importers/ImportURDFDemo/BulletUrdfImporter.cpp,126]:\n",
      "tool0b3Warning[examples/Importers/ImportURDFDemo/BulletUrdfImporter.cpp,126]:\n",
      "No inertial data for link, using mass=1, localinertiadiagonal = 1,1,1, identity local inertial frameb3Warning[examples/Importers/ImportURDFDemo/BulletUrdfImporter.cpp,126]:\n",
      "panda_handb3Warning[examples/Importers/ImportURDFDemo/BulletUrdfImporter.cpp,126]:\n",
      "No inertial data for link, using mass=1, localinertiadiagonal = 1,1,1, identity local inertial frameb3Warning[examples/Importers/ImportURDFDemo/BulletUrdfImporter.cpp,126]:\n",
      "panda_leftfingerb3Warning[examples/Importers/ImportURDFDemo/BulletUrdfImporter.cpp,126]:\n",
      "No inertial data for link, using mass=1, localinertiadiagonal = 1,1,1, identity local inertial frameb3Warning[examples/Importers/ImportURDFDemo/BulletUrdfImporter.cpp,126]:\n",
      "panda_rightfinger"
     ]
    }
   ],
   "execution_count": 34
  },
  {
   "metadata": {
    "ExecuteTime": {
     "end_time": "2025-06-16T21:40:36.999709Z",
     "start_time": "2025-06-16T21:40:36.959085Z"
    }
   },
   "cell_type": "code",
   "outputs": [
    {
     "name": "stdout",
     "output_type": "stream",
     "text": [
      "✅  Збережено demo_training/agent_new_episode_1_frame_01.png\n",
      "✅  Збережено demo_training/agent_new_episode_1_frame_03.png\n",
      "✅  Збережено demo_training/agent_new_episode_1_frame_06.png\n",
      "✅  Збережено demo_training/agent_new_episode_1_frame_09.png\n"
     ]
    }
   ],
   "execution_count": 34,
   "source": [
    "gif_path   = f\"demo_agent/agent_new.gif\"  # ваша гіфка\n",
    "frame_ids  = [1, 3, 6, 9]       # які кадри витягнути (нумерація з нуля)\n",
    "out_format = \"demo_agent/agent_new_episode_1_frame_{:02d}.png\"   # шаблон імен файлів\n",
    "\n",
    "with Image.open(gif_path) as gif:\n",
    "    # GIF — це \"seek-able\" об’єкт; кількість кадрів:\n",
    "    n_frames = gif.n_frames\n",
    "\n",
    "    for idx in frame_ids:\n",
    "        gif.seek(idx-1)                  # перейти до потрібного кадру\n",
    "        frame = gif.convert(\"RGBA\")    # безпечне перетворення у звичайне зображення\n",
    "        frame.save(out_format.format(idx))\n",
    "        print(f\"✅  Збережено {out_format.format(idx)}\")"
   ],
   "id": "2ffc7386ad702f8c"
  },
  {
   "metadata": {
    "ExecuteTime": {
     "end_time": "2025-06-16T21:42:52.100861Z",
     "start_time": "2025-06-16T21:42:52.055987Z"
    }
   },
   "cell_type": "code",
   "outputs": [
    {
     "name": "stdout",
     "output_type": "stream",
     "text": [
      "✅  Збережено demo_training/agent_new_episode_2_frame_24.png\n",
      "✅  Збережено demo_training/agent_new_episode_2_frame_28.png\n",
      "✅  Збережено demo_training/agent_new_episode_2_frame_33.png\n",
      "✅  Збережено demo_training/agent_new_episode_2_frame_40.png\n"
     ]
    }
   ],
   "execution_count": 35,
   "source": [
    "gif_path   = f\"demo_agent/agent_new.gif\"  # ваша гіфка\n",
    "frame_ids  = [24, 28, 33, 40]       # які кадри витягнути (нумерація з нуля)\n",
    "out_format = \"demo_agent/agent_new_episode_2_frame_{:02d}.png\"   # шаблон імен файлів\n",
    "\n",
    "with Image.open(gif_path) as gif:\n",
    "    # GIF — це \"seek-able\" об’єкт; кількість кадрів:\n",
    "    n_frames = gif.n_frames\n",
    "\n",
    "    for idx in frame_ids:\n",
    "        gif.seek(idx-1)                  # перейти до потрібного кадру\n",
    "        frame = gif.convert(\"RGBA\")    # безпечне перетворення у звичайне зображення\n",
    "        frame.save(out_format.format(idx))\n",
    "        print(f\"✅  Збережено {out_format.format(idx)}\")"
   ],
   "id": "d877c31d01a99397"
  },
  {
   "metadata": {
    "ExecuteTime": {
     "end_time": "2025-06-16T21:43:58.650049Z",
     "start_time": "2025-06-16T21:43:58.601448Z"
    }
   },
   "cell_type": "code",
   "outputs": [
    {
     "name": "stdout",
     "output_type": "stream",
     "text": [
      "✅  Збережено demo_training/agent_new_episode_3_frame_41.png\n",
      "✅  Збережено demo_training/agent_new_episode_3_frame_44.png\n",
      "✅  Збережено demo_training/agent_new_episode_3_frame_49.png\n",
      "✅  Збережено demo_training/agent_new_episode_3_frame_51.png\n"
     ]
    }
   ],
   "execution_count": 36,
   "source": [
    "gif_path   = f\"demo_agent/agent_new.gif\"  # ваша гіфка\n",
    "frame_ids  = [41, 44, 49, 51]       # які кадри витягнути (нумерація з нуля)\n",
    "out_format = \"demo_agent/agent_new_episode_3_frame_{:02d}.png\"   # шаблон імен файлів\n",
    "\n",
    "with Image.open(gif_path) as gif:\n",
    "    # GIF — це \"seek-able\" об’єкт; кількість кадрів:\n",
    "    n_frames = gif.n_frames\n",
    "\n",
    "    for idx in frame_ids:\n",
    "        gif.seek(idx-1)                  # перейти до потрібного кадру\n",
    "        frame = gif.convert(\"RGBA\")    # безпечне перетворення у звичайне зображення\n",
    "        frame.save(out_format.format(idx))\n",
    "        print(f\"✅  Збережено {out_format.format(idx)}\")"
   ],
   "id": "c729daf7e2daa7e7"
  }
 ],
 "metadata": {
  "kernelspec": {
   "display_name": "Python 3",
   "language": "python",
   "name": "python3"
  },
  "language_info": {
   "codemirror_mode": {
    "name": "ipython",
    "version": 2
   },
   "file_extension": ".py",
   "mimetype": "text/x-python",
   "name": "python",
   "nbconvert_exporter": "python",
   "pygments_lexer": "ipython2",
   "version": "2.7.6"
  }
 },
 "nbformat": 4,
 "nbformat_minor": 5
}
